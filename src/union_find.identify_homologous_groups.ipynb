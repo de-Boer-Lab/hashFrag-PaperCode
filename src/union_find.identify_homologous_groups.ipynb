{
 "cells": [
  {
   "cell_type": "code",
   "execution_count": 25,
   "id": "e44ec5aa-f9b1-4c9a-b0b0-cc5e18f6232e",
   "metadata": {
    "execution": {
     "iopub.execute_input": "2025-07-08T03:59:48.708232Z",
     "iopub.status.busy": "2025-07-08T03:59:48.707806Z",
     "iopub.status.idle": "2025-07-08T03:59:56.426270Z",
     "shell.execute_reply": "2025-07-08T03:59:56.425740Z",
     "shell.execute_reply.started": "2025-07-08T03:59:48.708212Z"
    },
    "tags": []
   },
   "outputs": [],
   "source": [
    "import os\n",
    "import numpy as np\n",
    "from collections import defaultdict"
   ]
  },
  {
   "cell_type": "code",
   "execution_count": 7,
   "id": "b196bc5a-1a61-45fb-b31f-d75239882255",
   "metadata": {
    "execution": {
     "iopub.execute_input": "2025-07-08T03:57:36.179207Z",
     "iopub.status.busy": "2025-07-08T03:57:36.178741Z",
     "iopub.status.idle": "2025-07-08T03:57:36.182922Z",
     "shell.execute_reply": "2025-07-08T03:57:36.182486Z",
     "shell.execute_reply.started": "2025-07-08T03:57:36.179190Z"
    },
    "tags": []
   },
   "outputs": [],
   "source": [
    "class UnionFind:\n",
    "    def __init__(self):\n",
    "        self.parent = {}\n",
    "\n",
    "    def find(self,x):\n",
    "        if self.parent[x] != x:\n",
    "            self.parent[x] = self.find(self.parent[x])\n",
    "        return self.parent[x]\n",
    "\n",
    "    def union(self,x,y):\n",
    "        root_x = self.find(x)\n",
    "        root_y = self.find(y)\n",
    "        if root_x != root_y:\n",
    "            self.parent[root_x] = root_y"
   ]
  },
  {
   "cell_type": "code",
   "execution_count": 11,
   "id": "5e599d2c-5110-4303-a26b-ff15788dbb14",
   "metadata": {
    "execution": {
     "iopub.execute_input": "2025-07-08T03:58:18.593135Z",
     "iopub.status.busy": "2025-07-08T03:58:18.592707Z",
     "iopub.status.idle": "2025-07-08T03:58:18.597224Z",
     "shell.execute_reply": "2025-07-08T03:58:18.596943Z",
     "shell.execute_reply.started": "2025-07-08T03:58:18.593115Z"
    },
    "tags": []
   },
   "outputs": [],
   "source": [
    "def get_disjoint_sets(setlist):\n",
    "    uf = UnionFind()\n",
    "    for s in setlist:\n",
    "        for x in s:\n",
    "            if x not in uf.parent:\n",
    "                uf.parent[x] = x\n",
    "\n",
    "    for reverse_id in [x for x in uf.parent if x.endswith(\"_Reversed\")]:\n",
    "        forward_id = reverse_id.replace(\"_Reversed\",\"\")\n",
    "        if forward_id in uf.parent:\n",
    "            uf.union(reverse_id,forward_id)\n",
    "\n",
    "    for s in setlist:\n",
    "        s_list = list(s)\n",
    "        for i in range(1,len(s_list)):\n",
    "            uf.union(s_list[0],s_list[i])\n",
    "\n",
    "    groups = defaultdict(set)\n",
    "    for x in uf.parent:\n",
    "        groups[uf.find(x)].add(x)\n",
    "\n",
    "    return list(groups.values())"
   ]
  },
  {
   "cell_type": "code",
   "execution_count": 12,
   "id": "c2dcf94a-4420-496a-b513-3f984735a16e",
   "metadata": {
    "execution": {
     "iopub.execute_input": "2025-07-08T03:58:19.192944Z",
     "iopub.status.busy": "2025-07-08T03:58:19.192576Z",
     "iopub.status.idle": "2025-07-08T03:58:19.195500Z",
     "shell.execute_reply": "2025-07-08T03:58:19.195233Z",
     "shell.execute_reply.started": "2025-07-08T03:58:19.192926Z"
    },
    "tags": []
   },
   "outputs": [],
   "source": [
    "setlist = [\n",
    "    {\"A\", \"B\", \"C\"},\n",
    "    {\"C\", \"D\", \"E\"},\n",
    "    {\"E\", \"F\"},\n",
    "    {\"X\", \"Y\"},\n",
    "    {\"Y_Reversed\"},  # Should be merged with {\"X\", \"Y\"}\n",
    "    {\"G\", \"H_Reversed\"},\n",
    "]"
   ]
  },
  {
   "cell_type": "code",
   "execution_count": null,
   "id": "4c928b37-323b-47cb-a0c5-a58f6e456371",
   "metadata": {},
   "outputs": [],
   "source": []
  },
  {
   "cell_type": "code",
   "execution_count": 13,
   "id": "7665eeb7-273b-429e-95aa-b53900f0eaef",
   "metadata": {
    "execution": {
     "iopub.execute_input": "2025-07-08T03:58:20.196684Z",
     "iopub.status.busy": "2025-07-08T03:58:20.196331Z",
     "iopub.status.idle": "2025-07-08T03:58:20.200330Z",
     "shell.execute_reply": "2025-07-08T03:58:20.200091Z",
     "shell.execute_reply.started": "2025-07-08T03:58:20.196668Z"
    },
    "tags": []
   },
   "outputs": [
    {
     "data": {
      "text/plain": [
       "[{'A', 'B', 'C', 'D', 'E', 'F'}, {'X', 'Y', 'Y_Reversed'}, {'G', 'H_Reversed'}]"
      ]
     },
     "execution_count": 13,
     "metadata": {},
     "output_type": "execute_result"
    }
   ],
   "source": [
    "groups = get_disjoint_sets(setlist)\n",
    "groups"
   ]
  },
  {
   "cell_type": "code",
   "execution_count": 68,
   "id": "45c1eebd-7b58-4657-b76d-f176bba19aac",
   "metadata": {
    "execution": {
     "iopub.execute_input": "2025-07-08T04:28:59.123027Z",
     "iopub.status.busy": "2025-07-08T04:28:59.122593Z",
     "iopub.status.idle": "2025-07-08T04:29:38.959469Z",
     "shell.execute_reply": "2025-07-08T04:29:38.958680Z",
     "shell.execute_reply.started": "2025-07-08T04:28:59.123009Z"
    }
   },
   "outputs": [],
   "source": [
    "import pandas as pd"
   ]
  },
  {
   "cell_type": "code",
   "execution_count": 39,
   "id": "619123a5-cc84-4a05-8bb1-02846450ff51",
   "metadata": {
    "execution": {
     "iopub.execute_input": "2025-03-24T18:42:53.123760Z",
     "iopub.status.busy": "2025-03-24T18:42:53.122698Z",
     "iopub.status.idle": "2025-03-24T18:42:53.138599Z",
     "shell.execute_reply": "2025-03-24T18:42:53.138155Z",
     "shell.execute_reply.started": "2025-03-24T18:42:53.123737Z"
    }
   },
   "outputs": [
    {
     "data": {
      "text/plain": [
       "[{'BCL11A_1542', 'RBM38_4242'},\n",
       " {'BCL11A_6910_Reversed', 'peak34207_Reversed'},\n",
       " {'BCL11A_6910_Reversed', 'peak11111_Reversed'},\n",
       " {'BCL11A_6910_Reversed', 'peak79481'},\n",
       " {'BCL11A_6910_Reversed', 'peak3064'},\n",
       " {'BCL11A_6910_Reversed', 'HBA2_1011_Reversed'},\n",
       " {'BCL11A_6910_Reversed', 'peak69368_Reversed'},\n",
       " {'BCL11A_6910_Reversed', 'peak27018_Reversed'},\n",
       " {'BCL11A_6910_Reversed', 'peak451_Reversed'},\n",
       " {'BCL11A_6910_Reversed', 'HBA2_4317_Reversed'}]"
      ]
     },
     "execution_count": 39,
     "metadata": {},
     "output_type": "execute_result"
    }
   ],
   "source": [
    "pairs[:10]"
   ]
  },
  {
   "cell_type": "code",
   "execution_count": 36,
   "id": "2cbb358b-945e-4b15-9e13-9648ea960a5f",
   "metadata": {
    "execution": {
     "iopub.execute_input": "2025-07-08T04:07:46.692766Z",
     "iopub.status.busy": "2025-07-08T04:07:46.638351Z",
     "iopub.status.idle": "2025-07-08T04:07:46.726102Z",
     "shell.execute_reply": "2025-07-08T04:07:46.725568Z",
     "shell.execute_reply.started": "2025-07-08T04:07:46.692719Z"
    },
    "tags": []
   },
   "outputs": [],
   "source": [
    "work_dir = \"/home/brett/work/OrthogonalTrainValSplits/hashFrag/data/tutorial.create_orthogonal_splits.work\"\n",
    "path = os.path.join(work_dir,\"hashFrag.blastn.processed.tsv\")\n"
   ]
  },
  {
   "cell_type": "code",
   "execution_count": 71,
   "id": "6369e85c-cc58-46a6-8abe-512ddf26ac3f",
   "metadata": {
    "execution": {
     "iopub.execute_input": "2025-07-08T04:31:06.754610Z",
     "iopub.status.busy": "2025-07-08T04:31:06.754229Z",
     "iopub.status.idle": "2025-07-08T04:31:06.828003Z",
     "shell.execute_reply": "2025-07-08T04:31:06.827701Z",
     "shell.execute_reply.started": "2025-07-08T04:31:06.754592Z"
    },
    "tags": []
   },
   "outputs": [
    {
     "data": {
      "text/html": [
       "<div>\n",
       "<style scoped>\n",
       "    .dataframe tbody tr th:only-of-type {\n",
       "        vertical-align: middle;\n",
       "    }\n",
       "\n",
       "    .dataframe tbody tr th {\n",
       "        vertical-align: top;\n",
       "    }\n",
       "\n",
       "    .dataframe thead th {\n",
       "        text-align: right;\n",
       "    }\n",
       "</style>\n",
       "<table border=\"1\" class=\"dataframe\">\n",
       "  <thead>\n",
       "    <tr style=\"text-align: right;\">\n",
       "      <th></th>\n",
       "      <th>qseqid</th>\n",
       "      <th>sseqid</th>\n",
       "      <th>score</th>\n",
       "    </tr>\n",
       "  </thead>\n",
       "  <tbody>\n",
       "    <tr>\n",
       "      <th>0</th>\n",
       "      <td>peak83127_Reversed</td>\n",
       "      <td>peak83127_Reversed</td>\n",
       "      <td>200</td>\n",
       "    </tr>\n",
       "    <tr>\n",
       "      <th>1</th>\n",
       "      <td>peak83127_Reversed</td>\n",
       "      <td>peak70672</td>\n",
       "      <td>18</td>\n",
       "    </tr>\n",
       "    <tr>\n",
       "      <th>2</th>\n",
       "      <td>peak83127_Reversed</td>\n",
       "      <td>peak3437</td>\n",
       "      <td>18</td>\n",
       "    </tr>\n",
       "    <tr>\n",
       "      <th>3</th>\n",
       "      <td>peak83127_Reversed</td>\n",
       "      <td>peak70885</td>\n",
       "      <td>18</td>\n",
       "    </tr>\n",
       "    <tr>\n",
       "      <th>4</th>\n",
       "      <td>peak83127_Reversed</td>\n",
       "      <td>peak17162_Reversed</td>\n",
       "      <td>16</td>\n",
       "    </tr>\n",
       "    <tr>\n",
       "      <th>...</th>\n",
       "      <td>...</td>\n",
       "      <td>...</td>\n",
       "      <td>...</td>\n",
       "    </tr>\n",
       "    <tr>\n",
       "      <th>249995</th>\n",
       "      <td>peak49129_Reversed</td>\n",
       "      <td>BCL11A_2470_Reversed</td>\n",
       "      <td>16</td>\n",
       "    </tr>\n",
       "    <tr>\n",
       "      <th>249996</th>\n",
       "      <td>peak49129_Reversed</td>\n",
       "      <td>peak1432</td>\n",
       "      <td>18</td>\n",
       "    </tr>\n",
       "    <tr>\n",
       "      <th>249997</th>\n",
       "      <td>peak49129_Reversed</td>\n",
       "      <td>peak52511_Reversed</td>\n",
       "      <td>19</td>\n",
       "    </tr>\n",
       "    <tr>\n",
       "      <th>249998</th>\n",
       "      <td>peak49129_Reversed</td>\n",
       "      <td>peak52938_Reversed</td>\n",
       "      <td>16</td>\n",
       "    </tr>\n",
       "    <tr>\n",
       "      <th>249999</th>\n",
       "      <td>peak49129_Reversed</td>\n",
       "      <td>peak25424_Reversed</td>\n",
       "      <td>15</td>\n",
       "    </tr>\n",
       "  </tbody>\n",
       "</table>\n",
       "<p>250000 rows × 3 columns</p>\n",
       "</div>"
      ],
      "text/plain": [
       "                    qseqid                sseqid  score\n",
       "0       peak83127_Reversed    peak83127_Reversed    200\n",
       "1       peak83127_Reversed             peak70672     18\n",
       "2       peak83127_Reversed              peak3437     18\n",
       "3       peak83127_Reversed             peak70885     18\n",
       "4       peak83127_Reversed    peak17162_Reversed     16\n",
       "...                    ...                   ...    ...\n",
       "249995  peak49129_Reversed  BCL11A_2470_Reversed     16\n",
       "249996  peak49129_Reversed              peak1432     18\n",
       "249997  peak49129_Reversed    peak52511_Reversed     19\n",
       "249998  peak49129_Reversed    peak52938_Reversed     16\n",
       "249999  peak49129_Reversed    peak25424_Reversed     15\n",
       "\n",
       "[250000 rows x 3 columns]"
      ]
     },
     "metadata": {},
     "output_type": "display_data"
    }
   ],
   "source": [
    "for chunk_df in pd.read_csv(path,sep=\"\\t\",chunksize=250_000,header=None,names=[\"qseqid\",\"sseqid\",\"score\"]):\n",
    "    display(chunk_df)\n",
    "    break"
   ]
  },
  {
   "cell_type": "code",
   "execution_count": 73,
   "id": "eb098507-cadc-4a66-941c-5ad1d28d1c16",
   "metadata": {
    "execution": {
     "iopub.execute_input": "2025-07-08T04:32:11.755514Z",
     "iopub.status.busy": "2025-07-08T04:32:11.755105Z",
     "iopub.status.idle": "2025-07-08T04:32:11.759362Z",
     "shell.execute_reply": "2025-07-08T04:32:11.758943Z",
     "shell.execute_reply.started": "2025-07-08T04:32:11.755495Z"
    },
    "tags": []
   },
   "outputs": [
    {
     "name": "stdout",
     "output_type": "stream",
     "text": [
      "200 <class 'int'>\n"
     ]
    }
   ],
   "source": [
    "for qseqid,sseqid,score in zip(chunk_df[\"qseqid\"],chunk_df[\"sseqid\"],chunk_df[\"score\"]):\n",
    "    print(score,type(score))\n",
    "    break"
   ]
  },
  {
   "cell_type": "code",
   "execution_count": 52,
   "id": "4ea1f4a5-6c48-4d21-8603-7d30df716445",
   "metadata": {
    "execution": {
     "iopub.execute_input": "2025-07-08T04:19:41.515203Z",
     "iopub.status.busy": "2025-07-08T04:19:41.514747Z",
     "iopub.status.idle": "2025-07-08T04:19:43.778833Z",
     "shell.execute_reply": "2025-07-08T04:19:43.778411Z",
     "shell.execute_reply.started": "2025-07-08T04:19:41.515181Z"
    },
    "tags": []
   },
   "outputs": [
    {
     "data": {
      "text/plain": [
       "(1453331, 10000, 9999)"
      ]
     },
     "execution_count": 52,
     "metadata": {},
     "output_type": "execute_result"
    }
   ],
   "source": [
    "threshold = 80\n",
    "setlist = []\n",
    "idset = set()\n",
    "homology_set = set()\n",
    "covered_ids = set()\n",
    "with open(path,\"r\") as handle:\n",
    "    handle.readline()\n",
    "    for line in handle:\n",
    "        id_i,id_j,score = line.strip().split(\"\\t\")\n",
    "        idset.add(id_i)\n",
    "        idset.add(id_j)\n",
    "        if float(score) >= threshold:\n",
    "            pairset = {id_i,id_j}\n",
    "            setlist.append(pairset)\n",
    "            homology_set.update(pairset)\n",
    "        else:\n",
    "            setlist.append({id_i})\n",
    "            setlist.append({id_j})\n",
    "len(setlist),len(idset),len(homology_set)"
   ]
  },
  {
   "cell_type": "code",
   "execution_count": 53,
   "id": "fd666193-4966-49ea-a8cf-ebcdef1420f6",
   "metadata": {
    "execution": {
     "iopub.execute_input": "2025-07-08T04:20:05.597768Z",
     "iopub.status.busy": "2025-07-08T04:20:05.597364Z",
     "iopub.status.idle": "2025-07-08T04:20:06.003321Z",
     "shell.execute_reply": "2025-07-08T04:20:06.002634Z",
     "shell.execute_reply.started": "2025-07-08T04:20:05.597749Z"
    },
    "tags": []
   },
   "outputs": [
    {
     "data": {
      "text/plain": [
       "4700"
      ]
     },
     "execution_count": 53,
     "metadata": {},
     "output_type": "execute_result"
    }
   ],
   "source": [
    "groups = get_disjoint_sets(setlist)\n",
    "len(groups)"
   ]
  },
  {
   "cell_type": "code",
   "execution_count": 54,
   "id": "7dcd4471-fd37-461a-a9fb-da3e2cf2769f",
   "metadata": {
    "execution": {
     "iopub.execute_input": "2025-07-08T04:20:15.160153Z",
     "iopub.status.busy": "2025-07-08T04:20:15.159698Z",
     "iopub.status.idle": "2025-07-08T04:20:15.163302Z",
     "shell.execute_reply": "2025-07-08T04:20:15.162990Z",
     "shell.execute_reply.started": "2025-07-08T04:20:15.160131Z"
    },
    "tags": []
   },
   "outputs": [],
   "source": [
    "n_folds = 5"
   ]
  },
  {
   "cell_type": "code",
   "execution_count": 55,
   "id": "002b3c04-67ee-4e6f-ae59-cd905150b991",
   "metadata": {
    "execution": {
     "iopub.execute_input": "2025-07-08T04:20:15.935240Z",
     "iopub.status.busy": "2025-07-08T04:20:15.934826Z",
     "iopub.status.idle": "2025-07-08T04:20:15.975189Z",
     "shell.execute_reply": "2025-07-08T04:20:15.974832Z",
     "shell.execute_reply.started": "2025-07-08T04:20:15.935219Z"
    },
    "tags": []
   },
   "outputs": [],
   "source": [
    "import random\n",
    "random.seed(1)\n",
    "# random.shuffle(groups)\n",
    "groups = sorted(groups, key=len, reverse=True)"
   ]
  },
  {
   "cell_type": "code",
   "execution_count": 56,
   "id": "276a1bcf-ef5c-41ff-a0da-4b882ed115dd",
   "metadata": {
    "execution": {
     "iopub.execute_input": "2025-07-08T04:20:16.624329Z",
     "iopub.status.busy": "2025-07-08T04:20:16.623955Z",
     "iopub.status.idle": "2025-07-08T04:20:16.687082Z",
     "shell.execute_reply": "2025-07-08T04:20:16.686794Z",
     "shell.execute_reply.started": "2025-07-08T04:20:16.624310Z"
    },
    "tags": []
   },
   "outputs": [
    {
     "data": {
      "text/plain": [
       "10000"
      ]
     },
     "execution_count": 56,
     "metadata": {},
     "output_type": "execute_result"
    }
   ],
   "source": [
    "N = np.sum([len(g) for g in groups])\n",
    "N"
   ]
  },
  {
   "cell_type": "code",
   "execution_count": 57,
   "id": "84eb7f43-c1f9-46fe-bd2b-564f48153639",
   "metadata": {
    "execution": {
     "iopub.execute_input": "2025-07-08T04:20:17.182567Z",
     "iopub.status.busy": "2025-07-08T04:20:17.182172Z",
     "iopub.status.idle": "2025-07-08T04:20:17.213690Z",
     "shell.execute_reply": "2025-07-08T04:20:17.213360Z",
     "shell.execute_reply.started": "2025-07-08T04:20:17.182548Z"
    },
    "tags": []
   },
   "outputs": [],
   "source": [
    "max_group_size = np.max([len(g) for g in groups])"
   ]
  },
  {
   "cell_type": "code",
   "execution_count": 61,
   "id": "569b7a73-803e-424e-9394-ef743c27a105",
   "metadata": {
    "execution": {
     "iopub.execute_input": "2025-07-08T04:20:22.161406Z",
     "iopub.status.busy": "2025-07-08T04:20:22.161041Z",
     "iopub.status.idle": "2025-07-08T04:20:22.168048Z",
     "shell.execute_reply": "2025-07-08T04:20:22.167799Z",
     "shell.execute_reply.started": "2025-07-08T04:20:22.161389Z"
    },
    "tags": []
   },
   "outputs": [
    {
     "data": {
      "text/plain": [
       "[2000, 2000, 2000, 2000, 2000]"
      ]
     },
     "execution_count": 61,
     "metadata": {},
     "output_type": "execute_result"
    }
   ],
   "source": [
    "import random\n",
    "random.seed(1)\n",
    "# random.shuffle(groups)\n",
    "groups = sorted(groups, key=len, reverse=True)\n",
    "folds = [[] for _ in range(n_folds)]\n",
    "foldsizes = [0]*n_folds\n",
    "for group in groups:\n",
    "    i = foldsizes.index(min(foldsizes))\n",
    "    folds[i].extend(group)\n",
    "    foldsizes[i] += len(group)\n",
    "\n",
    "foldsizes"
   ]
  },
  {
   "cell_type": "code",
   "execution_count": 66,
   "id": "0d2ed8ea-880c-4b48-a5b9-68b0c02aec38",
   "metadata": {
    "execution": {
     "iopub.execute_input": "2025-07-08T04:22:02.449600Z",
     "iopub.status.busy": "2025-07-08T04:22:02.449106Z",
     "iopub.status.idle": "2025-07-08T04:22:05.070831Z",
     "shell.execute_reply": "2025-07-08T04:22:05.070442Z",
     "shell.execute_reply.started": "2025-07-08T04:22:02.449578Z"
    },
    "tags": []
   },
   "outputs": [],
   "source": [
    "for i,group_i in enumerate(groups):\n",
    "    for j,group_j in enumerate(groups):\n",
    "        if i == j: continue\n",
    "        assert group_i.isdisjoint(group_j)"
   ]
  },
  {
   "cell_type": "code",
   "execution_count": 62,
   "id": "ba575560-3685-436a-af0f-ace53cb04e42",
   "metadata": {
    "execution": {
     "iopub.execute_input": "2025-07-08T04:20:26.389763Z",
     "iopub.status.busy": "2025-07-08T04:20:26.389386Z",
     "iopub.status.idle": "2025-07-08T04:20:26.392625Z",
     "shell.execute_reply": "2025-07-08T04:20:26.392387Z",
     "shell.execute_reply.started": "2025-07-08T04:20:26.389747Z"
    },
    "tags": []
   },
   "outputs": [
    {
     "data": {
      "text/plain": [
       "[2000, 2000, 2000, 2000, 2000]"
      ]
     },
     "execution_count": 62,
     "metadata": {},
     "output_type": "execute_result"
    }
   ],
   "source": [
    "foldsizes"
   ]
  },
  {
   "cell_type": "code",
   "execution_count": 63,
   "id": "74ce740b-4411-4cc0-a121-defdf42a910c",
   "metadata": {
    "execution": {
     "iopub.execute_input": "2025-07-08T04:20:36.370664Z",
     "iopub.status.busy": "2025-07-08T04:20:36.370290Z",
     "iopub.status.idle": "2025-07-08T04:20:36.432588Z",
     "shell.execute_reply": "2025-07-08T04:20:36.432304Z",
     "shell.execute_reply.started": "2025-07-08T04:20:36.370647Z"
    },
    "tags": []
   },
   "outputs": [
    {
     "data": {
      "text/plain": [
       "92"
      ]
     },
     "execution_count": 63,
     "metadata": {},
     "output_type": "execute_result"
    }
   ],
   "source": [
    "groups_path = os.path.join(work_dir,\"homologous_groups.pure.csv\")\n",
    "group_dict = defaultdict(set)\n",
    "with open(groups_path,\"r\") as handle:\n",
    "    for line in handle:\n",
    "        id_i,group = line.strip().split(\"\\t\")\n",
    "        group_dict[group].add(id_i)\n",
    "previous_groups = list(group_dict.values())\n",
    "len(previous_groups)"
   ]
  },
  {
   "cell_type": "code",
   "execution_count": null,
   "id": "6e29b98f-6f21-41cb-8686-47595e45b4a1",
   "metadata": {},
   "outputs": [],
   "source": []
  }
 ],
 "metadata": {
  "kernelspec": {
   "display_name": "Python 3 (ipykernel)",
   "language": "python",
   "name": "python3"
  },
  "language_info": {
   "codemirror_mode": {
    "name": "ipython",
    "version": 3
   },
   "file_extension": ".py",
   "mimetype": "text/x-python",
   "name": "python",
   "nbconvert_exporter": "python",
   "pygments_lexer": "ipython3",
   "version": "3.9.15"
  }
 },
 "nbformat": 4,
 "nbformat_minor": 5
}
