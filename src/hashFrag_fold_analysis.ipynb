{
 "cells": [
  {
   "cell_type": "code",
   "execution_count": 83,
   "id": "5e8025a3-5341-4955-9fda-02f1b0cc98e6",
   "metadata": {
    "execution": {
     "iopub.execute_input": "2025-10-05T02:16:57.883558Z",
     "iopub.status.busy": "2025-10-05T02:16:57.883274Z",
     "iopub.status.idle": "2025-10-05T02:16:57.886630Z",
     "shell.execute_reply": "2025-10-05T02:16:57.886256Z",
     "shell.execute_reply.started": "2025-10-05T02:16:57.883538Z"
    },
    "tags": []
   },
   "outputs": [],
   "source": [
    "import os\n",
    "import gzip\n",
    "import random\n",
    "import numpy as np\n",
    "import pandas as pd\n",
    "\n",
    "import seaborn as sns\n",
    "import matplotlib.pyplot as plt\n",
    "\n",
    "from glob import glob\n",
    "from tqdm import tqdm\n",
    "\n",
    "from collections import defaultdict"
   ]
  },
  {
   "cell_type": "markdown",
   "id": "cfb40d90-c5dd-4cfc-8e99-b9d65411ed4b",
   "metadata": {},
   "source": [
    "# Computing all-all pairwise SW distances over teh K562 dataset\n",
    "\n",
    "Pulled from /home/brett/work/OrthogonalTrainValSplits/hashClust/scripts/hashFrag_tutorial_previous.ipynb"
   ]
  },
  {
   "cell_type": "code",
   "execution_count": 4,
   "id": "c4dce3bb-4ce1-46ef-aeff-74fccab93b2a",
   "metadata": {
    "execution": {
     "iopub.execute_input": "2025-10-04T21:25:50.839111Z",
     "iopub.status.busy": "2025-10-04T21:25:50.836862Z",
     "iopub.status.idle": "2025-10-04T21:25:51.186649Z",
     "shell.execute_reply": "2025-10-04T21:25:51.185964Z",
     "shell.execute_reply.started": "2025-10-04T21:25:50.839087Z"
    },
    "tags": []
   },
   "outputs": [
    {
     "name": "stdout",
     "output_type": "stream",
     "text": [
      "276\n",
      "requested Hard Resources\n",
      "  memory (s_vmem): 4G = A task requires 4GB of memory per slot.\n",
      "  slots (def_slot): 16 = A task requires 1600% of CPU.\n",
      "  total memory: 64G = A task requires 64GB of memory.\n",
      "  Resource list: arm\n",
      "array job tasks\n",
      "  SGE_TASK_FIRST: 1\n",
      "  SGE_TASK_LAST: 276\n",
      "  SGE_TASK_STEPSIZE: 1\n",
      "Your job-array 117099925.1-276:1 (\"bkSW_BATCH\") has been submitted\n"
     ]
    }
   ],
   "source": [
    "%%bash\n",
    "\n",
    "PAIRED_FASTAS_PATH=$HOME/work/OrthogonalTrainValSplits/data/K562_clean/K562_clean_filepaths.txt\n",
    "OUT_DIR=$HOME/work/OrthogonalTrainValSplits/distances/K562_clean.smith_waterman.1121\n",
    "\n",
    "N_PARTITIONS=$( cat $PAIRED_FASTAS_PATH | wc -l )\n",
    "echo $N_PARTITIONS\n",
    "\n",
    "qsub -t 1:${N_PARTITIONS} pairwise_comparisons_batch.sh $PAIRED_FASTAS_PATH $OUT_DIR # Note: configured to Altair Grid Engine (AGE/SGE) job scheduler!"
   ]
  },
  {
   "cell_type": "markdown",
   "id": "a71a7fbc-c053-45b1-92e7-a7263b3a91a8",
   "metadata": {},
   "source": [
    "# Identifying homologous groups"
   ]
  },
  {
   "cell_type": "code",
   "execution_count": 5,
   "id": "57a5fc41-532c-4362-a426-9ee731e96ad3",
   "metadata": {
    "execution": {
     "iopub.execute_input": "2025-10-04T22:43:11.057037Z",
     "iopub.status.busy": "2025-10-04T22:43:11.022078Z",
     "iopub.status.idle": "2025-10-04T22:46:50.319187Z",
     "shell.execute_reply": "2025-10-04T22:46:50.318567Z",
     "shell.execute_reply.started": "2025-10-04T22:43:11.057007Z"
    }
   },
   "outputs": [
    {
     "name": "stdout",
     "output_type": "stream",
     "text": [
      "2025-10-05 07:44:02 - numexpr.utils - INFO - Note: detected 128 virtual cores but NumExpr set to maximum of 64, check \"NUMEXPR_MAX_THREADS\" environment variable.\n",
      "2025-10-05 07:44:02 - numexpr.utils - INFO - Note: NumExpr detected 128 cores but \"NUMEXPR_MAX_THREADS\" not set, so enforcing safe limit of 16.\n",
      "2025-10-05 07:44:02 - numexpr.utils - INFO - NumExpr defaulting to 16 threads.\n",
      "2025-10-05 07:44:17 - process_blast_results_module - INFO - Calling module...\n",
      "2025-10-05 07:46:48 - process_blast_results_module - INFO - Processed BLASTn results written to: /home/brett/work/OrthogonalTrainValSplits/K562_orthoSplit/blast/K562_clean.complete.wordsize_7.work/K562_clean.blastn.processed.tsv\n",
      "2025-10-05 07:46:48 - process_blast_results_module - INFO - Module execution completed.\n",
      "\n"
     ]
    }
   ],
   "source": [
    "%%bash\n",
    "\n",
    "WORK_DIR=/home/brett/work/OrthogonalTrainValSplits/K562_orthoSplit/blast/K562_clean.complete.wordsize_7.work\n",
    "LABEL=hashFrag\n",
    "BLASTN_PATH=$WORK_DIR/K562_clean.blastn.out\n",
    "PROCESSED_BLASTN_PATH=$WORK_DIR/K562_clean.blastn.processed.tsv\n",
    "\n",
    "hashFrag process_blast_results_module \\\n",
    "--blastn-path $BLASTN_PATH \\\n",
    "--processed-blastn-path $PROCESSED_BLASTN_PATH"
   ]
  },
  {
   "cell_type": "code",
   "execution_count": 6,
   "id": "f0fb98ca-b1a5-4a97-8b47-300e66177b56",
   "metadata": {
    "execution": {
     "iopub.execute_input": "2025-10-04T22:48:04.614203Z",
     "iopub.status.busy": "2025-10-04T22:48:04.612935Z",
     "iopub.status.idle": "2025-10-04T22:49:42.452785Z",
     "shell.execute_reply": "2025-10-04T22:49:42.452150Z",
     "shell.execute_reply.started": "2025-10-04T22:48:04.614177Z"
    }
   },
   "outputs": [
    {
     "name": "stdout",
     "output_type": "stream",
     "text": [
      "2025-10-05 07:48:07 - numexpr.utils - INFO - Note: detected 128 virtual cores but NumExpr set to maximum of 64, check \"NUMEXPR_MAX_THREADS\" environment variable.\n",
      "2025-10-05 07:48:07 - numexpr.utils - INFO - Note: NumExpr detected 128 cores but \"NUMEXPR_MAX_THREADS\" not set, so enforcing safe limit of 16.\n",
      "2025-10-05 07:48:07 - numexpr.utils - INFO - NumExpr defaulting to 16 threads.\n",
      "2025-10-05 07:48:07 - filter_candidates_module - INFO - Calling module...\n",
      "2025-10-05 07:49:41 - filter_candidates_module - INFO - Filtered results written to: /home/brett/work/OrthogonalTrainValSplits/K562_orthoSplit/blast/K562_clean.complete.wordsize_7.work/hashFrag.similar_pairs.tsv\n",
      "2025-10-05 07:49:41 - filter_candidates_module - INFO - Module execution completed.\n",
      "\n"
     ]
    }
   ],
   "source": [
    "%%bash\n",
    "\n",
    "WORK_DIR=/home/brett/work/OrthogonalTrainValSplits/K562_orthoSplit/blast/K562_clean.complete.wordsize_7.work\n",
    "INPUT_PATH=$WORK_DIR/K562_clean.blastn.processed.tsv\n",
    "hashFrag filter_candidates_module -i $INPUT_PATH -t 60 -o $WORK_DIR"
   ]
  },
  {
   "cell_type": "code",
   "execution_count": 10,
   "id": "e97cbd57-4de2-42fd-83ea-5ace39b8aae5",
   "metadata": {
    "execution": {
     "iopub.execute_input": "2025-10-04T23:01:26.016574Z",
     "iopub.status.busy": "2025-10-04T23:01:26.015863Z",
     "iopub.status.idle": "2025-10-04T23:08:17.522675Z",
     "shell.execute_reply": "2025-10-04T23:08:17.521880Z",
     "shell.execute_reply.started": "2025-10-04T23:01:26.016545Z"
    },
    "tags": []
   },
   "outputs": [
    {
     "name": "stdout",
     "output_type": "stream",
     "text": [
      "2025-10-05 08:01:30 - numexpr.utils - INFO - Note: detected 128 virtual cores but NumExpr set to maximum of 64, check \"NUMEXPR_MAX_THREADS\" environment variable.\n",
      "2025-10-05 08:01:30 - numexpr.utils - INFO - Note: NumExpr detected 128 cores but \"NUMEXPR_MAX_THREADS\" not set, so enforcing safe limit of 16.\n",
      "2025-10-05 08:01:30 - numexpr.utils - INFO - NumExpr defaulting to 16 threads.\n",
      "2025-10-05 08:01:33 - identify_homologous_groups_module - INFO - Calling module...\n",
      "2025-10-05 08:08:02 - identify_homologous_groups_module - INFO - 95266 distinct groups.\n",
      "2025-10-05 08:08:02 - identify_homologous_groups_module - INFO - Homologous groups written to: /home/brett/work/OrthogonalTrainValSplits/K562_orthoSplit/blast/K562_clean.complete.wordsize_7.work/K562_clean.homologous_groups.csv\n",
      "2025-10-05 08:08:02 - identify_homologous_groups_module - INFO - Module execution completed.\n",
      "\n"
     ]
    }
   ],
   "source": [
    "%%bash\n",
    "\n",
    "WORK_DIR=/home/brett/work/OrthogonalTrainValSplits/K562_orthoSplit/blast/K562_clean.complete.wordsize_7.work\n",
    "INPUT_PATH=$WORK_DIR/K562_clean.blastn.processed.tsv\n",
    "OUTPUT_PATH=$WORK_DIR/K562_clean.homologous_groups.csv\n",
    "hashFrag identify_homologous_groups_module -i $INPUT_PATH -t 60 -o $OUTPUT_PATH"
   ]
  },
  {
   "cell_type": "code",
   "execution_count": 11,
   "id": "8121e5c6-58a3-4ae6-b964-8ce9e0d5b9d6",
   "metadata": {
    "execution": {
     "iopub.execute_input": "2025-10-04T23:09:27.939811Z",
     "iopub.status.busy": "2025-10-04T23:09:27.939234Z",
     "iopub.status.idle": "2025-10-04T23:09:29.502864Z",
     "shell.execute_reply": "2025-10-04T23:09:29.502124Z",
     "shell.execute_reply.started": "2025-10-04T23:09:27.939784Z"
    }
   },
   "outputs": [
    {
     "name": "stdout",
     "output_type": "stream",
     "text": [
      "2025-10-05 08:09:29 - create_orthogonal_folds_module - INFO - Calling module...\n",
      "2025-10-05 08:09:29 - create_orthogonal_folds_module - INFO - Creating 10 orthogonal folds...\n",
      "2025-10-05 08:09:29 - create_orthogonal_folds_module - INFO - Orthogonal folds written to /home/brett/work/OrthogonalTrainValSplits/K562_orthoSplit/blast/K562_clean.complete.wordsize_7.work/hashFrag.10_orthogonal_folds.tsv\n",
      "2025-10-05 08:09:29 - create_orthogonal_folds_module - INFO - Module execution completed.\n",
      "\n"
     ]
    }
   ],
   "source": [
    "%%bash\n",
    "\n",
    "WORK_DIR=/home/brett/work/OrthogonalTrainValSplits/K562_orthoSplit/blast/K562_clean.complete.wordsize_7.work\n",
    "HOMOLOGY_PATH=$WORK_DIR/K562_clean.homologous_groups.csv\n",
    "OUT_DIR=$WORK_DIR\n",
    "hashFrag create_orthogonal_folds_module -i $HOMOLOGY_PATH -f 10 -o $OUT_DIR"
   ]
  },
  {
   "cell_type": "markdown",
   "id": "2f3b3538-48c0-444f-9300-c4bec67b28c7",
   "metadata": {},
   "source": [
    "# Validating orthogonal fold creation"
   ]
  },
  {
   "cell_type": "code",
   "execution_count": 13,
   "id": "3b3adb51-5d22-484e-807b-7c3240834e51",
   "metadata": {
    "execution": {
     "iopub.execute_input": "2025-10-04T23:10:46.623027Z",
     "iopub.status.busy": "2025-10-04T23:10:46.622608Z",
     "iopub.status.idle": "2025-10-04T23:10:46.626177Z",
     "shell.execute_reply": "2025-10-04T23:10:46.625693Z",
     "shell.execute_reply.started": "2025-10-04T23:10:46.623006Z"
    }
   },
   "outputs": [],
   "source": [
    "folds_path = \"/home/brett/work/OrthogonalTrainValSplits/K562_orthoSplit/blast/K562_clean.complete.wordsize_7.work/hashFrag.10_orthogonal_folds.tsv\""
   ]
  },
  {
   "cell_type": "code",
   "execution_count": 15,
   "id": "61248755-8ce0-4e6c-925b-eae0a220a409",
   "metadata": {
    "execution": {
     "iopub.execute_input": "2025-10-04T23:11:11.714334Z",
     "iopub.status.busy": "2025-10-04T23:11:11.713911Z",
     "iopub.status.idle": "2025-10-04T23:11:11.815567Z",
     "shell.execute_reply": "2025-10-04T23:11:11.814999Z",
     "shell.execute_reply.started": "2025-10-04T23:11:11.714313Z"
    },
    "tags": []
   },
   "outputs": [
    {
     "data": {
      "text/html": [
       "<div>\n",
       "<style scoped>\n",
       "    .dataframe tbody tr th:only-of-type {\n",
       "        vertical-align: middle;\n",
       "    }\n",
       "\n",
       "    .dataframe tbody tr th {\n",
       "        vertical-align: top;\n",
       "    }\n",
       "\n",
       "    .dataframe thead th {\n",
       "        text-align: right;\n",
       "    }\n",
       "</style>\n",
       "<table border=\"1\" class=\"dataframe\">\n",
       "  <thead>\n",
       "    <tr style=\"text-align: right;\">\n",
       "      <th></th>\n",
       "      <th>id</th>\n",
       "      <th>fold</th>\n",
       "    </tr>\n",
       "  </thead>\n",
       "  <tbody>\n",
       "    <tr>\n",
       "      <th>0</th>\n",
       "      <td>HBE1_616</td>\n",
       "      <td>0</td>\n",
       "    </tr>\n",
       "    <tr>\n",
       "      <th>1</th>\n",
       "      <td>peak79226_Reversed</td>\n",
       "      <td>0</td>\n",
       "    </tr>\n",
       "    <tr>\n",
       "      <th>2</th>\n",
       "      <td>peak48901</td>\n",
       "      <td>0</td>\n",
       "    </tr>\n",
       "    <tr>\n",
       "      <th>3</th>\n",
       "      <td>peak44111</td>\n",
       "      <td>0</td>\n",
       "    </tr>\n",
       "    <tr>\n",
       "      <th>4</th>\n",
       "      <td>peak82994_Reversed</td>\n",
       "      <td>0</td>\n",
       "    </tr>\n",
       "  </tbody>\n",
       "</table>\n",
       "</div>"
      ],
      "text/plain": [
       "                   id  fold\n",
       "0            HBE1_616     0\n",
       "1  peak79226_Reversed     0\n",
       "2           peak48901     0\n",
       "3           peak44111     0\n",
       "4  peak82994_Reversed     0"
      ]
     },
     "metadata": {},
     "output_type": "display_data"
    },
    {
     "name": "stdout",
     "output_type": "stream",
     "text": [
      "(226253, 2)\n"
     ]
    }
   ],
   "source": [
    "folds_df = pd.read_csv(folds_path,sep=\"\\t\")\n",
    "display(folds_df.head())\n",
    "print(folds_df.shape)"
   ]
  },
  {
   "cell_type": "code",
   "execution_count": 45,
   "id": "08ae6461-4657-4ebf-b227-9d2ee5fbd602",
   "metadata": {
    "execution": {
     "iopub.execute_input": "2025-10-04T23:45:26.588609Z",
     "iopub.status.busy": "2025-10-04T23:45:26.588388Z",
     "iopub.status.idle": "2025-10-04T23:45:26.611272Z",
     "shell.execute_reply": "2025-10-04T23:45:26.610894Z",
     "shell.execute_reply.started": "2025-10-04T23:45:26.588590Z"
    },
    "tags": []
   },
   "outputs": [
    {
     "data": {
      "text/plain": [
       "226253"
      ]
     },
     "execution_count": 45,
     "metadata": {},
     "output_type": "execute_result"
    }
   ],
   "source": [
    "K562_clean_idset = set(folds_df[\"id\"])\n",
    "len(K562_clean_idset)"
   ]
  },
  {
   "cell_type": "code",
   "execution_count": 17,
   "id": "67c8b99a-6926-4104-84ec-559d1a4c2c3b",
   "metadata": {
    "execution": {
     "iopub.execute_input": "2025-10-04T23:11:29.452508Z",
     "iopub.status.busy": "2025-10-04T23:11:29.452175Z",
     "iopub.status.idle": "2025-10-04T23:11:29.459431Z",
     "shell.execute_reply": "2025-10-04T23:11:29.458945Z",
     "shell.execute_reply.started": "2025-10-04T23:11:29.452491Z"
    },
    "tags": []
   },
   "outputs": [
    {
     "data": {
      "text/plain": [
       "(array([0, 1, 2, 3, 4, 5, 6, 7, 8, 9]),\n",
       " array([23454, 22534, 22534, 22533, 22533, 22533, 22533, 22533, 22533,\n",
       "        22533]))"
      ]
     },
     "execution_count": 17,
     "metadata": {},
     "output_type": "execute_result"
    }
   ],
   "source": [
    "np.unique(folds_df[\"fold\"],return_counts=True)"
   ]
  },
  {
   "cell_type": "code",
   "execution_count": 22,
   "id": "8281ad73-a2df-4820-bb82-f53e45090de6",
   "metadata": {
    "execution": {
     "iopub.execute_input": "2025-10-04T23:13:24.670859Z",
     "iopub.status.busy": "2025-10-04T23:13:24.670594Z",
     "iopub.status.idle": "2025-10-04T23:13:24.701156Z",
     "shell.execute_reply": "2025-10-04T23:13:24.700500Z",
     "shell.execute_reply.started": "2025-10-04T23:13:24.670839Z"
    },
    "tags": []
   },
   "outputs": [],
   "source": [
    "ids = set(folds_df[\"id\"])"
   ]
  },
  {
   "cell_type": "code",
   "execution_count": 31,
   "id": "3ca6c28e-03e2-4e48-a3a2-81b9ba56403b",
   "metadata": {
    "execution": {
     "iopub.execute_input": "2025-10-04T23:16:31.944707Z",
     "iopub.status.busy": "2025-10-04T23:16:31.944399Z",
     "iopub.status.idle": "2025-10-04T23:16:32.140331Z",
     "shell.execute_reply": "2025-10-04T23:16:32.139651Z",
     "shell.execute_reply.started": "2025-10-04T23:16:31.944689Z"
    },
    "tags": []
   },
   "outputs": [
    {
     "name": "stderr",
     "output_type": "stream",
     "text": [
      "100%|██████████████████████████████████████████████████████████████████| 226253/226253 [00:00<00:00, 1282255.02it/s]"
     ]
    },
    {
     "name": "stdout",
     "output_type": "stream",
     "text": [
      "223052\n"
     ]
    },
    {
     "name": "stderr",
     "output_type": "stream",
     "text": [
      "\n"
     ]
    }
   ],
   "source": [
    "both_orientations_set = set()\n",
    "for seq_id in tqdm(ids):\n",
    "    if seq_id.endswith(\"_Reversed\"):\n",
    "        complementary_seq_id = seq_id.replace(\"_Reversed\",\"\")\n",
    "    else:\n",
    "        complementary_seq_id = seq_id+\"_Reversed\"\n",
    "    if complementary_seq_id in ids:\n",
    "        both_orientations_set.add(seq_id)\n",
    "        both_orientations_set.add(complementary_seq_id)\n",
    "print(len(both_orientations_set))"
   ]
  },
  {
   "cell_type": "code",
   "execution_count": 32,
   "id": "04edcd93-db77-4310-832b-514dca52973a",
   "metadata": {
    "execution": {
     "iopub.execute_input": "2025-10-04T23:18:04.725842Z",
     "iopub.status.busy": "2025-10-04T23:18:04.725591Z",
     "iopub.status.idle": "2025-10-04T23:18:05.012237Z",
     "shell.execute_reply": "2025-10-04T23:18:05.011567Z",
     "shell.execute_reply.started": "2025-10-04T23:18:04.725822Z"
    },
    "tags": []
   },
   "outputs": [],
   "source": [
    "for fold,subset_df in folds_df.groupby(\"fold\"):\n",
    "    fold_set = set(subset_df[\"id\"])\n",
    "    for seq_id in fold_set:\n",
    "        if seq_id in both_orientations_set:\n",
    "            if seq_id.endswith(\"_Reversed\"):\n",
    "                complementary_seq_id = seq_id.replace(\"_Reversed\",\"\")\n",
    "            else:\n",
    "                complementary_seq_id = seq_id+\"_Reversed\"\n",
    "            assert complementary_seq_id in fold_set"
   ]
  },
  {
   "cell_type": "markdown",
   "id": "0c24b853-a833-4b6c-8661-00a5a98d0131",
   "metadata": {},
   "source": [
    "# Making chromosomal splits"
   ]
  },
  {
   "cell_type": "code",
   "execution_count": 36,
   "id": "96f7ecc6-cf5f-4bf2-823f-5f66cc36d382",
   "metadata": {
    "execution": {
     "iopub.execute_input": "2025-10-04T23:23:38.930372Z",
     "iopub.status.busy": "2025-10-04T23:23:38.929914Z",
     "iopub.status.idle": "2025-10-04T23:23:39.035308Z",
     "shell.execute_reply": "2025-10-04T23:23:39.034810Z",
     "shell.execute_reply.started": "2025-10-04T23:23:38.930349Z"
    }
   },
   "outputs": [
    {
     "data": {
      "text/html": [
       "<div>\n",
       "<style scoped>\n",
       "    .dataframe tbody tr th:only-of-type {\n",
       "        vertical-align: middle;\n",
       "    }\n",
       "\n",
       "    .dataframe tbody tr th {\n",
       "        vertical-align: top;\n",
       "    }\n",
       "\n",
       "    .dataframe thead th {\n",
       "        text-align: right;\n",
       "    }\n",
       "</style>\n",
       "<table border=\"1\" class=\"dataframe\">\n",
       "  <thead>\n",
       "    <tr style=\"text-align: right;\">\n",
       "      <th></th>\n",
       "      <th>id</th>\n",
       "      <th>chrom</th>\n",
       "    </tr>\n",
       "  </thead>\n",
       "  <tbody>\n",
       "    <tr>\n",
       "      <th>0</th>\n",
       "      <td>peak10</td>\n",
       "      <td>chr1</td>\n",
       "    </tr>\n",
       "    <tr>\n",
       "      <th>1</th>\n",
       "      <td>peak10_Reversed</td>\n",
       "      <td>chr1</td>\n",
       "    </tr>\n",
       "    <tr>\n",
       "      <th>2</th>\n",
       "      <td>peak1000</td>\n",
       "      <td>chr1</td>\n",
       "    </tr>\n",
       "    <tr>\n",
       "      <th>3</th>\n",
       "      <td>peak1000_Reversed</td>\n",
       "      <td>chr1</td>\n",
       "    </tr>\n",
       "    <tr>\n",
       "      <th>4</th>\n",
       "      <td>peak10000</td>\n",
       "      <td>chr1</td>\n",
       "    </tr>\n",
       "  </tbody>\n",
       "</table>\n",
       "</div>"
      ],
      "text/plain": [
       "                  id chrom\n",
       "0             peak10  chr1\n",
       "1    peak10_Reversed  chr1\n",
       "2           peak1000  chr1\n",
       "3  peak1000_Reversed  chr1\n",
       "4          peak10000  chr1"
      ]
     },
     "metadata": {},
     "output_type": "display_data"
    },
    {
     "name": "stdout",
     "output_type": "stream",
     "text": [
      "(225948, 2)\n"
     ]
    }
   ],
   "source": [
    "chrom_path = \"/home/brett/work/OrthogonalTrainValSplits/data/K562_clean/id_chrom.csv\"\n",
    "chrom_df = pd.read_csv(chrom_path)\n",
    "display(chrom_df.head())\n",
    "print(chrom_df.shape)"
   ]
  },
  {
   "cell_type": "code",
   "execution_count": 37,
   "id": "5c640e72-85ac-4141-b141-2dc2319514a7",
   "metadata": {
    "execution": {
     "iopub.execute_input": "2025-10-04T23:23:54.380684Z",
     "iopub.status.busy": "2025-10-04T23:23:54.380315Z",
     "iopub.status.idle": "2025-10-04T23:24:01.271909Z",
     "shell.execute_reply": "2025-10-04T23:24:01.271311Z",
     "shell.execute_reply.started": "2025-10-04T23:23:54.380651Z"
    }
   },
   "outputs": [
    {
     "name": "stdout",
     "output_type": "stream",
     "text": [
      "225948\n"
     ]
    }
   ],
   "source": [
    "chrom_dict = {}\n",
    "for idx,row in chrom_df.iterrows():\n",
    "    if row[\"id\"] in ids:\n",
    "        chrom_dict[row[\"id\"]] = row[\"chrom\"]\n",
    "print(len(chrom_dict))"
   ]
  },
  {
   "cell_type": "code",
   "execution_count": 102,
   "id": "91b00331-e2a7-4070-bcf8-543e59713276",
   "metadata": {
    "execution": {
     "iopub.execute_input": "2025-10-05T04:00:32.852389Z",
     "iopub.status.busy": "2025-10-05T04:00:32.851137Z",
     "iopub.status.idle": "2025-10-05T04:00:41.080192Z",
     "shell.execute_reply": "2025-10-05T04:00:41.068106Z",
     "shell.execute_reply.started": "2025-10-05T04:00:32.852366Z"
    }
   },
   "outputs": [],
   "source": [
    "chrom_dict = defaultdict(list)\n",
    "for idx,row in chrom_df.iterrows():\n",
    "    if row[\"id\"] in ids:\n",
    "        chrom_dict[row[\"chrom\"]].append(row[\"id\"])\n"
   ]
  },
  {
   "cell_type": "code",
   "execution_count": 103,
   "id": "1f7b92d1-ba0c-482f-8b7c-7ff019a07330",
   "metadata": {
    "execution": {
     "iopub.execute_input": "2025-10-05T04:00:46.273663Z",
     "iopub.status.busy": "2025-10-05T04:00:46.272324Z",
     "iopub.status.idle": "2025-10-05T04:00:46.288032Z",
     "shell.execute_reply": "2025-10-05T04:00:46.287507Z",
     "shell.execute_reply.started": "2025-10-05T04:00:46.273638Z"
    }
   },
   "outputs": [
    {
     "name": "stdout",
     "output_type": "stream",
     "text": [
      "chr1 22437\n",
      "chr10 9139\n",
      "chr11 18186\n",
      "chr12 9676\n",
      "chr13 3424\n",
      "chr14 5236\n",
      "chr15 6341\n",
      "chr16 10807\n",
      "chr17 9216\n",
      "chr18 3434\n",
      "chr19 8132\n",
      "chr2 19207\n",
      "chr20 9442\n",
      "chr21 2705\n",
      "chr22 4291\n",
      "chr3 11973\n",
      "chr4 8567\n",
      "chr5 9143\n",
      "chr6 13505\n",
      "chr7 11189\n",
      "chr8 12513\n",
      "chr9 7587\n",
      "chrX 9749\n",
      "chrY 49\n"
     ]
    }
   ],
   "source": [
    "for chrom,group in chrom_dict.items():\n",
    "    print(chrom,len(group))"
   ]
  },
  {
   "cell_type": "code",
   "execution_count": 41,
   "id": "5e7b7a72-f587-4824-bfbb-a4f68878fbdc",
   "metadata": {
    "execution": {
     "iopub.execute_input": "2025-10-04T23:40:41.497289Z",
     "iopub.status.busy": "2025-10-04T23:40:41.497040Z",
     "iopub.status.idle": "2025-10-04T23:40:41.713782Z",
     "shell.execute_reply": "2025-10-04T23:40:41.713295Z",
     "shell.execute_reply.started": "2025-10-04T23:40:41.497269Z"
    }
   },
   "outputs": [
    {
     "name": "stderr",
     "output_type": "stream",
     "text": [
      "100%|██████████████████████████████████████████████████████████████████| 225948/225948 [00:00<00:00, 1330480.49it/s]"
     ]
    },
    {
     "name": "stdout",
     "output_type": "stream",
     "text": [
      "222996\n"
     ]
    },
    {
     "name": "stderr",
     "output_type": "stream",
     "text": [
      "\n"
     ]
    }
   ],
   "source": [
    "ids = set(chrom_df[\"id\"])\n",
    "both_orientations_set = set()\n",
    "for seq_id in tqdm(ids):\n",
    "    if seq_id.endswith(\"_Reversed\"):\n",
    "        complementary_seq_id = seq_id.replace(\"_Reversed\",\"\")\n",
    "    else:\n",
    "        complementary_seq_id = seq_id+\"_Reversed\"\n",
    "    if complementary_seq_id in ids:\n",
    "        both_orientations_set.add(seq_id)\n",
    "        both_orientations_set.add(complementary_seq_id)\n",
    "print(len(both_orientations_set))"
   ]
  },
  {
   "cell_type": "code",
   "execution_count": 94,
   "id": "280404e2-1a99-4577-8dbd-8bcf99ec3279",
   "metadata": {
    "execution": {
     "iopub.execute_input": "2025-10-05T03:51:48.649286Z",
     "iopub.status.busy": "2025-10-05T03:51:48.647741Z",
     "iopub.status.idle": "2025-10-05T03:51:48.663425Z",
     "shell.execute_reply": "2025-10-05T03:51:48.662986Z",
     "shell.execute_reply.started": "2025-10-05T03:51:48.649263Z"
    },
    "tags": []
   },
   "outputs": [
    {
     "data": {
      "text/plain": [
       "22594"
      ]
     },
     "execution_count": 94,
     "metadata": {},
     "output_type": "execute_result"
    }
   ],
   "source": [
    "n_folds = 10\n",
    "cutoff = chrom_df.shape[0] // n_folds\n",
    "cutoff"
   ]
  },
  {
   "cell_type": "code",
   "execution_count": 105,
   "id": "290736e9-7bac-43b5-97e8-6363428e4bf1",
   "metadata": {
    "execution": {
     "iopub.execute_input": "2025-10-05T04:03:00.869916Z",
     "iopub.status.busy": "2025-10-05T04:03:00.867680Z",
     "iopub.status.idle": "2025-10-05T04:03:03.057249Z",
     "shell.execute_reply": "2025-10-05T04:03:03.056626Z",
     "shell.execute_reply.started": "2025-10-05T04:03:00.869893Z"
    },
    "tags": []
   },
   "outputs": [
    {
     "name": "stdout",
     "output_type": "stream",
     "text": [
      "10\n"
     ]
    },
    {
     "data": {
      "text/html": [
       "<div>\n",
       "<style scoped>\n",
       "    .dataframe tbody tr th:only-of-type {\n",
       "        vertical-align: middle;\n",
       "    }\n",
       "\n",
       "    .dataframe tbody tr th {\n",
       "        vertical-align: top;\n",
       "    }\n",
       "\n",
       "    .dataframe thead th {\n",
       "        text-align: right;\n",
       "    }\n",
       "</style>\n",
       "<table border=\"1\" class=\"dataframe\">\n",
       "  <thead>\n",
       "    <tr style=\"text-align: right;\">\n",
       "      <th></th>\n",
       "      <th>id</th>\n",
       "      <th>fold</th>\n",
       "      <th>chrom</th>\n",
       "    </tr>\n",
       "  </thead>\n",
       "  <tbody>\n",
       "    <tr>\n",
       "      <th>0</th>\n",
       "      <td>peak10</td>\n",
       "      <td>0</td>\n",
       "      <td>chr1</td>\n",
       "    </tr>\n",
       "    <tr>\n",
       "      <th>1</th>\n",
       "      <td>peak10_Reversed</td>\n",
       "      <td>0</td>\n",
       "      <td>chr1</td>\n",
       "    </tr>\n",
       "    <tr>\n",
       "      <th>2</th>\n",
       "      <td>peak1000</td>\n",
       "      <td>0</td>\n",
       "      <td>chr1</td>\n",
       "    </tr>\n",
       "    <tr>\n",
       "      <th>3</th>\n",
       "      <td>peak1000_Reversed</td>\n",
       "      <td>0</td>\n",
       "      <td>chr1</td>\n",
       "    </tr>\n",
       "    <tr>\n",
       "      <th>4</th>\n",
       "      <td>peak10000</td>\n",
       "      <td>0</td>\n",
       "      <td>chr1</td>\n",
       "    </tr>\n",
       "  </tbody>\n",
       "</table>\n",
       "</div>"
      ],
      "text/plain": [
       "                  id  fold chrom\n",
       "0             peak10     0  chr1\n",
       "1    peak10_Reversed     0  chr1\n",
       "2           peak1000     0  chr1\n",
       "3  peak1000_Reversed     0  chr1\n",
       "4          peak10000     0  chr1"
      ]
     },
     "metadata": {},
     "output_type": "display_data"
    },
    {
     "name": "stdout",
     "output_type": "stream",
     "text": [
      "(225948, 3)\n"
     ]
    }
   ],
   "source": [
    "folds_count = np.zeros(n_folds)\n",
    "chroms,counts = np.unique(chrom_df[\"chrom\"],return_counts=True)\n",
    "\n",
    "chrom_counts_dict = {}\n",
    "for chrom,count in zip(chroms,counts):\n",
    "    chrom_counts_dict[chrom] = count\n",
    "\n",
    "folds = [[] for _ in range(n_folds)]\n",
    "fold_totals = np.zeros(n_folds, dtype=int)\n",
    "\n",
    "for chrom in chroms:\n",
    "    idx = np.argmin(fold_totals)\n",
    "    folds[idx].append(chrom)\n",
    "    fold_totals[idx] += chrom_counts_dict[chrom]\n",
    "\n",
    "folds_dict = {\n",
    "    \"id\":[],\n",
    "    \"fold\":[],\n",
    "    \"chrom\":[]\n",
    "}\n",
    "for f,fold in enumerate(folds):\n",
    "    for chrom in fold:\n",
    "        for seq_id in chrom_dict[chrom]:\n",
    "            folds_dict[\"id\"].append(seq_id)\n",
    "            folds_dict[\"fold\"].append(f)\n",
    "            folds_dict[\"chrom\"].append(chrom)\n",
    "\n",
    "chrom_folds_df = pd.DataFrame(folds_dict)\n",
    "print(chrom_folds_df[\"fold\"].nunique())\n",
    "display(chrom_folds_df.head())\n",
    "print(chrom_folds_df.shape)\n",
    "\n",
    "out_dir = \"/home/brett/work/OrthogonalTrainValSplits/K562_orthoSplit/blast/K562_clean.complete.wordsize_7.work\"\n",
    "outpath = os.path.join(out_dir,f\"control.10_chromosomal_folds.tsv.gz\")\n",
    "chrom_folds_df.to_csv(outpath,compression=\"gzip\",sep=\"\\t\",index=False)"
   ]
  },
  {
   "cell_type": "markdown",
   "id": "34251e4b-4926-4b40-866b-354b4aae1cd3",
   "metadata": {},
   "source": [
    "# Computing min cross-fold distances"
   ]
  },
  {
   "cell_type": "code",
   "execution_count": 65,
   "id": "138c33db-c7c7-4688-bece-6f0c010194cd",
   "metadata": {
    "execution": {
     "iopub.execute_input": "2025-10-05T01:56:10.621465Z",
     "iopub.status.busy": "2025-10-05T01:56:10.620319Z",
     "iopub.status.idle": "2025-10-05T01:56:10.633169Z",
     "shell.execute_reply": "2025-10-05T01:56:10.632703Z",
     "shell.execute_reply.started": "2025-10-05T01:56:10.621443Z"
    },
    "tags": []
   },
   "outputs": [],
   "source": [
    "input_dir = \"/home/brett/work/OrthogonalTrainValSplits/K562_orthoSplit/blast/K562_clean.complete.wordsize_7.work\"\n",
    "chrom_folds_path = os.path.join(input_dir,\"control.10_chromosomal_folds.tsv.gz\")\n",
    "hashfrag_folds_path = os.path.join(input_dir,\"hashFrag.10_orthogonal_folds.tsv.gz\")\n",
    "\n",
    "distances_dir = \"/home/brett/work/OrthogonalTrainValSplits/distances/K562_clean.smith_waterman.1121\""
   ]
  },
  {
   "cell_type": "code",
   "execution_count": 106,
   "id": "53d871fa-6943-4f46-90cc-97bf2b9e79be",
   "metadata": {
    "execution": {
     "iopub.execute_input": "2025-10-05T04:03:14.599311Z",
     "iopub.status.busy": "2025-10-05T04:03:14.597965Z",
     "iopub.status.idle": "2025-10-05T04:03:15.062146Z",
     "shell.execute_reply": "2025-10-05T04:03:15.061639Z",
     "shell.execute_reply.started": "2025-10-05T04:03:14.599286Z"
    },
    "tags": []
   },
   "outputs": [
    {
     "data": {
      "text/html": [
       "<div>\n",
       "<style scoped>\n",
       "    .dataframe tbody tr th:only-of-type {\n",
       "        vertical-align: middle;\n",
       "    }\n",
       "\n",
       "    .dataframe tbody tr th {\n",
       "        vertical-align: top;\n",
       "    }\n",
       "\n",
       "    .dataframe thead th {\n",
       "        text-align: right;\n",
       "    }\n",
       "</style>\n",
       "<table border=\"1\" class=\"dataframe\">\n",
       "  <thead>\n",
       "    <tr style=\"text-align: right;\">\n",
       "      <th></th>\n",
       "      <th>id</th>\n",
       "      <th>fold</th>\n",
       "      <th>chrom</th>\n",
       "    </tr>\n",
       "  </thead>\n",
       "  <tbody>\n",
       "    <tr>\n",
       "      <th>0</th>\n",
       "      <td>peak10</td>\n",
       "      <td>0</td>\n",
       "      <td>chr1</td>\n",
       "    </tr>\n",
       "    <tr>\n",
       "      <th>1</th>\n",
       "      <td>peak10_Reversed</td>\n",
       "      <td>0</td>\n",
       "      <td>chr1</td>\n",
       "    </tr>\n",
       "    <tr>\n",
       "      <th>2</th>\n",
       "      <td>peak1000</td>\n",
       "      <td>0</td>\n",
       "      <td>chr1</td>\n",
       "    </tr>\n",
       "    <tr>\n",
       "      <th>3</th>\n",
       "      <td>peak1000_Reversed</td>\n",
       "      <td>0</td>\n",
       "      <td>chr1</td>\n",
       "    </tr>\n",
       "    <tr>\n",
       "      <th>4</th>\n",
       "      <td>peak10000</td>\n",
       "      <td>0</td>\n",
       "      <td>chr1</td>\n",
       "    </tr>\n",
       "  </tbody>\n",
       "</table>\n",
       "</div>"
      ],
      "text/plain": [
       "                  id  fold chrom\n",
       "0             peak10     0  chr1\n",
       "1    peak10_Reversed     0  chr1\n",
       "2           peak1000     0  chr1\n",
       "3  peak1000_Reversed     0  chr1\n",
       "4          peak10000     0  chr1"
      ]
     },
     "metadata": {},
     "output_type": "display_data"
    },
    {
     "name": "stdout",
     "output_type": "stream",
     "text": [
      "(225948, 3)\n"
     ]
    },
    {
     "data": {
      "text/html": [
       "<div>\n",
       "<style scoped>\n",
       "    .dataframe tbody tr th:only-of-type {\n",
       "        vertical-align: middle;\n",
       "    }\n",
       "\n",
       "    .dataframe tbody tr th {\n",
       "        vertical-align: top;\n",
       "    }\n",
       "\n",
       "    .dataframe thead th {\n",
       "        text-align: right;\n",
       "    }\n",
       "</style>\n",
       "<table border=\"1\" class=\"dataframe\">\n",
       "  <thead>\n",
       "    <tr style=\"text-align: right;\">\n",
       "      <th></th>\n",
       "      <th>id</th>\n",
       "      <th>fold</th>\n",
       "    </tr>\n",
       "  </thead>\n",
       "  <tbody>\n",
       "    <tr>\n",
       "      <th>0</th>\n",
       "      <td>HBE1_616</td>\n",
       "      <td>0</td>\n",
       "    </tr>\n",
       "    <tr>\n",
       "      <th>1</th>\n",
       "      <td>peak79226_Reversed</td>\n",
       "      <td>0</td>\n",
       "    </tr>\n",
       "    <tr>\n",
       "      <th>2</th>\n",
       "      <td>peak48901</td>\n",
       "      <td>0</td>\n",
       "    </tr>\n",
       "    <tr>\n",
       "      <th>3</th>\n",
       "      <td>peak44111</td>\n",
       "      <td>0</td>\n",
       "    </tr>\n",
       "    <tr>\n",
       "      <th>4</th>\n",
       "      <td>peak82994_Reversed</td>\n",
       "      <td>0</td>\n",
       "    </tr>\n",
       "  </tbody>\n",
       "</table>\n",
       "</div>"
      ],
      "text/plain": [
       "                   id  fold\n",
       "0            HBE1_616     0\n",
       "1  peak79226_Reversed     0\n",
       "2           peak48901     0\n",
       "3           peak44111     0\n",
       "4  peak82994_Reversed     0"
      ]
     },
     "metadata": {},
     "output_type": "display_data"
    },
    {
     "name": "stdout",
     "output_type": "stream",
     "text": [
      "(226253, 2)\n"
     ]
    }
   ],
   "source": [
    "chrom_folds_df = pd.read_csv(chrom_folds_path,sep=\"\\t\")\n",
    "hashfrag_folds_df = pd.read_csv(hashfrag_folds_path,sep=\"\\t\")\n",
    "\n",
    "display(chrom_folds_df.head())\n",
    "print(chrom_folds_df.shape)\n",
    "\n",
    "display(hashfrag_folds_df.head())\n",
    "print(hashfrag_folds_df.shape)"
   ]
  },
  {
   "cell_type": "code",
   "execution_count": 107,
   "id": "b7e88604-45cc-4891-bc8a-5e1c0be0d576",
   "metadata": {
    "execution": {
     "iopub.execute_input": "2025-10-05T04:03:15.344693Z",
     "iopub.status.busy": "2025-10-05T04:03:15.338392Z",
     "iopub.status.idle": "2025-10-05T04:03:15.648034Z",
     "shell.execute_reply": "2025-10-05T04:03:15.647344Z",
     "shell.execute_reply.started": "2025-10-05T04:03:15.344669Z"
    },
    "tags": []
   },
   "outputs": [],
   "source": [
    "chrom_folds_dict = defaultdict(set)\n",
    "for fold,subset_df in chrom_folds_df.groupby(\"fold\"):\n",
    "    chrom_folds_dict[fold] = set(subset_df[\"id\"])\n",
    "\n",
    "hashfrag_folds_dict = defaultdict(set)\n",
    "for fold,subset_df in hashfrag_folds_df.groupby(\"fold\"):\n",
    "    hashfrag_folds_dict[fold] = set(subset_df[\"id\"])\n"
   ]
  },
  {
   "cell_type": "code",
   "execution_count": 108,
   "id": "406c9c09-ea13-4949-9a42-cdd15142f58c",
   "metadata": {
    "execution": {
     "iopub.execute_input": "2025-10-05T04:03:15.649933Z",
     "iopub.status.busy": "2025-10-05T04:03:15.649698Z",
     "iopub.status.idle": "2025-10-05T04:03:15.763153Z",
     "shell.execute_reply": "2025-10-05T04:03:15.762652Z",
     "shell.execute_reply.started": "2025-10-05T04:03:15.649914Z"
    },
    "tags": []
   },
   "outputs": [],
   "source": [
    "chrom_fold_map = {}\n",
    "for seq_id,fold in zip(chrom_folds_df[\"id\"],chrom_folds_df[\"fold\"]):\n",
    "    chrom_fold_map[seq_id] = fold\n",
    "\n",
    "hashfrag_fold_map = {}\n",
    "for seq_id,fold in zip(hashfrag_folds_df[\"id\"],hashfrag_folds_df[\"fold\"]):\n",
    "    hashfrag_fold_map[seq_id] = fold"
   ]
  },
  {
   "cell_type": "code",
   "execution_count": 109,
   "id": "fc6edeca-ac30-49ae-903d-a6b7c7724aa7",
   "metadata": {
    "execution": {
     "iopub.execute_input": "2025-10-05T04:03:15.853800Z",
     "iopub.status.busy": "2025-10-05T04:03:15.853541Z",
     "iopub.status.idle": "2025-10-05T04:08:18.605481Z",
     "shell.execute_reply": "2025-10-05T04:08:18.604601Z",
     "shell.execute_reply.started": "2025-10-05T04:03:15.853776Z"
    },
    "tags": []
   },
   "outputs": [
    {
     "name": "stdout",
     "output_type": "stream",
     "text": [
      "K562_clean.part_003.part_022.txt.gz.pairwise_comparisons.batch.txt.gz\n"
     ]
    },
    {
     "name": "stderr",
     "output_type": "stream",
     "text": [
      "100000000it [05:02, 330434.67it/s]\n"
     ]
    }
   ],
   "source": [
    "n_chrom_folds = len(chrom_folds_dict)\n",
    "n_hashfrag_folds = len(hashfrag_folds_dict)\n",
    "chrom_arr = np.zeros(shape=(n_chrom_folds,n_chrom_folds))\n",
    "hashfrag_arr = np.zeros(shape=(n_hashfrag_folds,n_hashfrag_folds))\n",
    "pattern = os.path.join(distances_dir,\"*.txt.gz\")\n",
    "for distances_path in glob(pattern):\n",
    "    print(os.path.basename(distances_path))\n",
    "    with gzip.open(distances_path,\"rt\") as handle:\n",
    "        handle.readline()\n",
    "        for line in tqdm(handle):\n",
    "            id_i,id_j,d = line.strip().split(\",\")\n",
    "            d = float(d)\n",
    "            try:\n",
    "                i = chrom_fold_map[id_i]\n",
    "                j = chrom_fold_map[id_j]\n",
    "                chrom_arr[i,j] = max(chrom_arr[i,j],d)\n",
    "                chrom_arr[j,i] = max(chrom_arr[j,i] ,d)\n",
    "            except:\n",
    "                pass\n",
    "            \n",
    "            try:\n",
    "                i = hashfrag_fold_map[id_i]\n",
    "                j = hashfrag_fold_map[id_j]\n",
    "                hashfrag_arr[i,j] = max(hashfrag_arr[i,j],d)\n",
    "                hashfrag_arr[j,i] = max(hashfrag_arr[j,i],d)\n",
    "            except:\n",
    "                pass\n",
    "    break"
   ]
  },
  {
   "cell_type": "code",
   "execution_count": 110,
   "id": "4349cac6-fb5f-4f29-839c-679c209c0e61",
   "metadata": {
    "execution": {
     "iopub.execute_input": "2025-10-05T04:08:18.608650Z",
     "iopub.status.busy": "2025-10-05T04:08:18.607902Z",
     "iopub.status.idle": "2025-10-05T04:08:20.226209Z",
     "shell.execute_reply": "2025-10-05T04:08:20.225739Z",
     "shell.execute_reply.started": "2025-10-05T04:08:18.608629Z"
    },
    "tags": []
   },
   "outputs": [
    {
     "data": {
      "image/png": "[encoded data removed]",
      "text/plain": [
       "<Figure size 640x480 with 2 Axes>"
      ]
     },
     "metadata": {},
     "output_type": "display_data"
    },
    {
     "data": {
      "image/png": "[encoded data removed]",
      "text/plain": [
       "<Figure size 640x480 with 2 Axes>"
      ]
     },
     "metadata": {},
     "output_type": "display_data"
    }
   ],
   "source": [
    "sns.heatmap(chrom_arr)\n",
    "plt.show()\n",
    "sns.heatmap(hashfrag_arr)\n",
    "plt.show()"
   ]
  },
  {
   "cell_type": "markdown",
   "id": "73dcef5a-955b-4219-8be5-d6a820a6424f",
   "metadata": {},
   "source": [
    "# Aggregating full results"
   ]
  },
  {
   "cell_type": "code",
   "execution_count": 111,
   "id": "ef244a2c-f4b3-4e9d-89fc-fdba3bd0274d",
   "metadata": {
    "execution": {
     "iopub.execute_input": "2025-10-05T05:15:26.105343Z",
     "iopub.status.busy": "2025-10-05T05:15:25.862296Z",
     "iopub.status.idle": "2025-10-05T05:15:26.919818Z",
     "shell.execute_reply": "2025-10-05T05:15:26.918660Z",
     "shell.execute_reply.started": "2025-10-05T05:15:26.056311Z"
    },
    "tags": []
   },
   "outputs": [],
   "source": [
    "analysis_dir = \"/home/brett/work/OrthogonalTrainValSplits/K562_orthoSplit/analysis/cross_fold_max_sw_analysis\""
   ]
  },
  {
   "cell_type": "code",
   "execution_count": 116,
   "id": "d8889025-fb5f-433b-a574-9d15e7f2dd85",
   "metadata": {
    "execution": {
     "iopub.execute_input": "2025-10-05T05:18:38.590848Z",
     "iopub.status.busy": "2025-10-05T05:18:38.577116Z",
     "iopub.status.idle": "2025-10-05T05:19:25.121513Z",
     "shell.execute_reply": "2025-10-05T05:19:25.116771Z",
     "shell.execute_reply.started": "2025-10-05T05:18:38.590824Z"
    },
    "tags": []
   },
   "outputs": [
    {
     "data": {
      "text/plain": [
       "array([[200., 186., 190., 184., 189., 181., 188., 182., 188., 187.],\n",
       "       [186., 200., 184., 188., 188., 181., 186., 186., 187., 185.],\n",
       "       [190., 184., 200., 181., 185., 185., 188., 191., 192., 192.],\n",
       "       [184., 188., 181., 200., 187., 185., 179., 184., 189., 183.],\n",
       "       [189., 188., 185., 187., 200., 184., 191., 185., 188., 185.],\n",
       "       [181., 181., 185., 185., 184., 200., 181., 183., 186., 180.],\n",
       "       [188., 186., 188., 179., 191., 181., 200., 190., 192., 189.],\n",
       "       [182., 186., 191., 184., 185., 183., 190., 200., 190., 182.],\n",
       "       [188., 187., 192., 189., 188., 186., 192., 190., 200., 188.],\n",
       "       [187., 185., 192., 183., 185., 180., 189., 182., 188., 200.]])"
      ]
     },
     "execution_count": 116,
     "metadata": {},
     "output_type": "execute_result"
    }
   ],
   "source": [
    "pattern = os.path.join(analysis_dir,\"*.chromosomal.max_sw_score.csv.gz\")\n",
    "pathlist = glob(pattern)\n",
    "arrs = [pd.read_csv(path,index_col=0).to_numpy() for path in pathlist]\n",
    "arr = np.max(np.stack(arrs,axis=0),axis=0)\n",
    "arr"
   ]
  },
  {
   "cell_type": "code",
   "execution_count": 119,
   "id": "fa8d3eea-7b97-4fab-b68b-ef7f9954a873",
   "metadata": {
    "execution": {
     "iopub.execute_input": "2025-10-05T05:20:13.224801Z",
     "iopub.status.busy": "2025-10-05T05:20:13.223823Z",
     "iopub.status.idle": "2025-10-05T05:20:13.258440Z",
     "shell.execute_reply": "2025-10-05T05:20:13.258058Z",
     "shell.execute_reply.started": "2025-10-05T05:20:13.224778Z"
    }
   },
   "outputs": [
    {
     "data": {
      "text/html": [
       "<div>\n",
       "<style scoped>\n",
       "    .dataframe tbody tr th:only-of-type {\n",
       "        vertical-align: middle;\n",
       "    }\n",
       "\n",
       "    .dataframe tbody tr th {\n",
       "        vertical-align: top;\n",
       "    }\n",
       "\n",
       "    .dataframe thead th {\n",
       "        text-align: right;\n",
       "    }\n",
       "</style>\n",
       "<table border=\"1\" class=\"dataframe\">\n",
       "  <thead>\n",
       "    <tr style=\"text-align: right;\">\n",
       "      <th></th>\n",
       "      <th>0</th>\n",
       "      <th>1</th>\n",
       "      <th>2</th>\n",
       "      <th>3</th>\n",
       "      <th>4</th>\n",
       "      <th>5</th>\n",
       "      <th>6</th>\n",
       "      <th>7</th>\n",
       "      <th>8</th>\n",
       "      <th>9</th>\n",
       "    </tr>\n",
       "  </thead>\n",
       "  <tbody>\n",
       "    <tr>\n",
       "      <th>0</th>\n",
       "      <td>200.0</td>\n",
       "      <td>186.0</td>\n",
       "      <td>190.0</td>\n",
       "      <td>184.0</td>\n",
       "      <td>189.0</td>\n",
       "      <td>181.0</td>\n",
       "      <td>188.0</td>\n",
       "      <td>182.0</td>\n",
       "      <td>188.0</td>\n",
       "      <td>187.0</td>\n",
       "    </tr>\n",
       "    <tr>\n",
       "      <th>1</th>\n",
       "      <td>186.0</td>\n",
       "      <td>200.0</td>\n",
       "      <td>184.0</td>\n",
       "      <td>188.0</td>\n",
       "      <td>188.0</td>\n",
       "      <td>181.0</td>\n",
       "      <td>186.0</td>\n",
       "      <td>186.0</td>\n",
       "      <td>187.0</td>\n",
       "      <td>185.0</td>\n",
       "    </tr>\n",
       "    <tr>\n",
       "      <th>2</th>\n",
       "      <td>190.0</td>\n",
       "      <td>184.0</td>\n",
       "      <td>200.0</td>\n",
       "      <td>181.0</td>\n",
       "      <td>185.0</td>\n",
       "      <td>185.0</td>\n",
       "      <td>188.0</td>\n",
       "      <td>191.0</td>\n",
       "      <td>192.0</td>\n",
       "      <td>192.0</td>\n",
       "    </tr>\n",
       "    <tr>\n",
       "      <th>3</th>\n",
       "      <td>184.0</td>\n",
       "      <td>188.0</td>\n",
       "      <td>181.0</td>\n",
       "      <td>200.0</td>\n",
       "      <td>187.0</td>\n",
       "      <td>185.0</td>\n",
       "      <td>179.0</td>\n",
       "      <td>184.0</td>\n",
       "      <td>189.0</td>\n",
       "      <td>183.0</td>\n",
       "    </tr>\n",
       "    <tr>\n",
       "      <th>4</th>\n",
       "      <td>189.0</td>\n",
       "      <td>188.0</td>\n",
       "      <td>185.0</td>\n",
       "      <td>187.0</td>\n",
       "      <td>200.0</td>\n",
       "      <td>184.0</td>\n",
       "      <td>191.0</td>\n",
       "      <td>185.0</td>\n",
       "      <td>188.0</td>\n",
       "      <td>185.0</td>\n",
       "    </tr>\n",
       "    <tr>\n",
       "      <th>5</th>\n",
       "      <td>181.0</td>\n",
       "      <td>181.0</td>\n",
       "      <td>185.0</td>\n",
       "      <td>185.0</td>\n",
       "      <td>184.0</td>\n",
       "      <td>200.0</td>\n",
       "      <td>181.0</td>\n",
       "      <td>183.0</td>\n",
       "      <td>186.0</td>\n",
       "      <td>180.0</td>\n",
       "    </tr>\n",
       "    <tr>\n",
       "      <th>6</th>\n",
       "      <td>188.0</td>\n",
       "      <td>186.0</td>\n",
       "      <td>188.0</td>\n",
       "      <td>179.0</td>\n",
       "      <td>191.0</td>\n",
       "      <td>181.0</td>\n",
       "      <td>200.0</td>\n",
       "      <td>190.0</td>\n",
       "      <td>192.0</td>\n",
       "      <td>189.0</td>\n",
       "    </tr>\n",
       "    <tr>\n",
       "      <th>7</th>\n",
       "      <td>182.0</td>\n",
       "      <td>186.0</td>\n",
       "      <td>191.0</td>\n",
       "      <td>184.0</td>\n",
       "      <td>185.0</td>\n",
       "      <td>183.0</td>\n",
       "      <td>190.0</td>\n",
       "      <td>200.0</td>\n",
       "      <td>190.0</td>\n",
       "      <td>182.0</td>\n",
       "    </tr>\n",
       "    <tr>\n",
       "      <th>8</th>\n",
       "      <td>188.0</td>\n",
       "      <td>187.0</td>\n",
       "      <td>192.0</td>\n",
       "      <td>189.0</td>\n",
       "      <td>188.0</td>\n",
       "      <td>186.0</td>\n",
       "      <td>192.0</td>\n",
       "      <td>190.0</td>\n",
       "      <td>200.0</td>\n",
       "      <td>188.0</td>\n",
       "    </tr>\n",
       "    <tr>\n",
       "      <th>9</th>\n",
       "      <td>187.0</td>\n",
       "      <td>185.0</td>\n",
       "      <td>192.0</td>\n",
       "      <td>183.0</td>\n",
       "      <td>185.0</td>\n",
       "      <td>180.0</td>\n",
       "      <td>189.0</td>\n",
       "      <td>182.0</td>\n",
       "      <td>188.0</td>\n",
       "      <td>200.0</td>\n",
       "    </tr>\n",
       "  </tbody>\n",
       "</table>\n",
       "</div>"
      ],
      "text/plain": [
       "       0      1      2      3      4      5      6      7      8      9\n",
       "0  200.0  186.0  190.0  184.0  189.0  181.0  188.0  182.0  188.0  187.0\n",
       "1  186.0  200.0  184.0  188.0  188.0  181.0  186.0  186.0  187.0  185.0\n",
       "2  190.0  184.0  200.0  181.0  185.0  185.0  188.0  191.0  192.0  192.0\n",
       "3  184.0  188.0  181.0  200.0  187.0  185.0  179.0  184.0  189.0  183.0\n",
       "4  189.0  188.0  185.0  187.0  200.0  184.0  191.0  185.0  188.0  185.0\n",
       "5  181.0  181.0  185.0  185.0  184.0  200.0  181.0  183.0  186.0  180.0\n",
       "6  188.0  186.0  188.0  179.0  191.0  181.0  200.0  190.0  192.0  189.0\n",
       "7  182.0  186.0  191.0  184.0  185.0  183.0  190.0  200.0  190.0  182.0\n",
       "8  188.0  187.0  192.0  189.0  188.0  186.0  192.0  190.0  200.0  188.0\n",
       "9  187.0  185.0  192.0  183.0  185.0  180.0  189.0  182.0  188.0  200.0"
      ]
     },
     "execution_count": 119,
     "metadata": {},
     "output_type": "execute_result"
    }
   ],
   "source": [
    "max_chrom_df = pd.DataFrame(arr)\n",
    "max_chrom_df"
   ]
  },
  {
   "cell_type": "code",
   "execution_count": 120,
   "id": "3e049156-e23e-4e2a-b19a-329c844f118b",
   "metadata": {
    "execution": {
     "iopub.execute_input": "2025-10-05T05:20:22.507116Z",
     "iopub.status.busy": "2025-10-05T05:20:22.506889Z",
     "iopub.status.idle": "2025-10-05T05:20:27.073175Z",
     "shell.execute_reply": "2025-10-05T05:20:27.072713Z",
     "shell.execute_reply.started": "2025-10-05T05:20:22.507096Z"
    }
   },
   "outputs": [
    {
     "data": {
      "text/plain": [
       "array([[200.,  63.,  65.,  62.,  64.,  64.,  62.,  68.,  64.,  62.],\n",
       "       [ 63., 200.,  61.,  63.,  63.,  61.,  61.,  62.,  62.,  64.],\n",
       "       [ 65.,  61., 200.,  62.,  61.,  61.,  61.,  62.,  62.,  62.],\n",
       "       [ 62.,  63.,  62., 200.,  62.,  61.,  63.,  61.,  63.,  61.],\n",
       "       [ 64.,  63.,  61.,  62., 200.,  62.,  62.,  63.,  64.,  61.],\n",
       "       [ 64.,  61.,  61.,  61.,  62., 200.,  60.,  63.,  63.,  60.],\n",
       "       [ 62.,  61.,  61.,  63.,  62.,  60., 200.,  64.,  64.,  62.],\n",
       "       [ 68.,  62.,  62.,  61.,  63.,  63.,  64., 200.,  62.,  61.],\n",
       "       [ 64.,  62.,  62.,  63.,  64.,  63.,  64.,  62., 200.,  70.],\n",
       "       [ 62.,  64.,  62.,  61.,  61.,  60.,  62.,  61.,  70., 200.]])"
      ]
     },
     "execution_count": 120,
     "metadata": {},
     "output_type": "execute_result"
    }
   ],
   "source": [
    "pattern = os.path.join(analysis_dir,\"*.hashFrag.max_sw_score.csv.gz\")\n",
    "pathlist = glob(pattern)\n",
    "arrs = [pd.read_csv(path,index_col=0).to_numpy() for path in pathlist]\n",
    "arr = np.max(np.stack(arrs,axis=0),axis=0)\n",
    "arr"
   ]
  },
  {
   "cell_type": "code",
   "execution_count": 121,
   "id": "a2f1bf86-b62c-4782-9dc9-59fddf214abf",
   "metadata": {
    "execution": {
     "iopub.execute_input": "2025-10-05T05:20:33.880557Z",
     "iopub.status.busy": "2025-10-05T05:20:33.880221Z",
     "iopub.status.idle": "2025-10-05T05:20:33.892290Z",
     "shell.execute_reply": "2025-10-05T05:20:33.891928Z",
     "shell.execute_reply.started": "2025-10-05T05:20:33.880536Z"
    }
   },
   "outputs": [
    {
     "data": {
      "text/html": [
       "<div>\n",
       "<style scoped>\n",
       "    .dataframe tbody tr th:only-of-type {\n",
       "        vertical-align: middle;\n",
       "    }\n",
       "\n",
       "    .dataframe tbody tr th {\n",
       "        vertical-align: top;\n",
       "    }\n",
       "\n",
       "    .dataframe thead th {\n",
       "        text-align: right;\n",
       "    }\n",
       "</style>\n",
       "<table border=\"1\" class=\"dataframe\">\n",
       "  <thead>\n",
       "    <tr style=\"text-align: right;\">\n",
       "      <th></th>\n",
       "      <th>0</th>\n",
       "      <th>1</th>\n",
       "      <th>2</th>\n",
       "      <th>3</th>\n",
       "      <th>4</th>\n",
       "      <th>5</th>\n",
       "      <th>6</th>\n",
       "      <th>7</th>\n",
       "      <th>8</th>\n",
       "      <th>9</th>\n",
       "    </tr>\n",
       "  </thead>\n",
       "  <tbody>\n",
       "    <tr>\n",
       "      <th>0</th>\n",
       "      <td>200.0</td>\n",
       "      <td>63.0</td>\n",
       "      <td>65.0</td>\n",
       "      <td>62.0</td>\n",
       "      <td>64.0</td>\n",
       "      <td>64.0</td>\n",
       "      <td>62.0</td>\n",
       "      <td>68.0</td>\n",
       "      <td>64.0</td>\n",
       "      <td>62.0</td>\n",
       "    </tr>\n",
       "    <tr>\n",
       "      <th>1</th>\n",
       "      <td>63.0</td>\n",
       "      <td>200.0</td>\n",
       "      <td>61.0</td>\n",
       "      <td>63.0</td>\n",
       "      <td>63.0</td>\n",
       "      <td>61.0</td>\n",
       "      <td>61.0</td>\n",
       "      <td>62.0</td>\n",
       "      <td>62.0</td>\n",
       "      <td>64.0</td>\n",
       "    </tr>\n",
       "    <tr>\n",
       "      <th>2</th>\n",
       "      <td>65.0</td>\n",
       "      <td>61.0</td>\n",
       "      <td>200.0</td>\n",
       "      <td>62.0</td>\n",
       "      <td>61.0</td>\n",
       "      <td>61.0</td>\n",
       "      <td>61.0</td>\n",
       "      <td>62.0</td>\n",
       "      <td>62.0</td>\n",
       "      <td>62.0</td>\n",
       "    </tr>\n",
       "    <tr>\n",
       "      <th>3</th>\n",
       "      <td>62.0</td>\n",
       "      <td>63.0</td>\n",
       "      <td>62.0</td>\n",
       "      <td>200.0</td>\n",
       "      <td>62.0</td>\n",
       "      <td>61.0</td>\n",
       "      <td>63.0</td>\n",
       "      <td>61.0</td>\n",
       "      <td>63.0</td>\n",
       "      <td>61.0</td>\n",
       "    </tr>\n",
       "    <tr>\n",
       "      <th>4</th>\n",
       "      <td>64.0</td>\n",
       "      <td>63.0</td>\n",
       "      <td>61.0</td>\n",
       "      <td>62.0</td>\n",
       "      <td>200.0</td>\n",
       "      <td>62.0</td>\n",
       "      <td>62.0</td>\n",
       "      <td>63.0</td>\n",
       "      <td>64.0</td>\n",
       "      <td>61.0</td>\n",
       "    </tr>\n",
       "    <tr>\n",
       "      <th>5</th>\n",
       "      <td>64.0</td>\n",
       "      <td>61.0</td>\n",
       "      <td>61.0</td>\n",
       "      <td>61.0</td>\n",
       "      <td>62.0</td>\n",
       "      <td>200.0</td>\n",
       "      <td>60.0</td>\n",
       "      <td>63.0</td>\n",
       "      <td>63.0</td>\n",
       "      <td>60.0</td>\n",
       "    </tr>\n",
       "    <tr>\n",
       "      <th>6</th>\n",
       "      <td>62.0</td>\n",
       "      <td>61.0</td>\n",
       "      <td>61.0</td>\n",
       "      <td>63.0</td>\n",
       "      <td>62.0</td>\n",
       "      <td>60.0</td>\n",
       "      <td>200.0</td>\n",
       "      <td>64.0</td>\n",
       "      <td>64.0</td>\n",
       "      <td>62.0</td>\n",
       "    </tr>\n",
       "    <tr>\n",
       "      <th>7</th>\n",
       "      <td>68.0</td>\n",
       "      <td>62.0</td>\n",
       "      <td>62.0</td>\n",
       "      <td>61.0</td>\n",
       "      <td>63.0</td>\n",
       "      <td>63.0</td>\n",
       "      <td>64.0</td>\n",
       "      <td>200.0</td>\n",
       "      <td>62.0</td>\n",
       "      <td>61.0</td>\n",
       "    </tr>\n",
       "    <tr>\n",
       "      <th>8</th>\n",
       "      <td>64.0</td>\n",
       "      <td>62.0</td>\n",
       "      <td>62.0</td>\n",
       "      <td>63.0</td>\n",
       "      <td>64.0</td>\n",
       "      <td>63.0</td>\n",
       "      <td>64.0</td>\n",
       "      <td>62.0</td>\n",
       "      <td>200.0</td>\n",
       "      <td>70.0</td>\n",
       "    </tr>\n",
       "    <tr>\n",
       "      <th>9</th>\n",
       "      <td>62.0</td>\n",
       "      <td>64.0</td>\n",
       "      <td>62.0</td>\n",
       "      <td>61.0</td>\n",
       "      <td>61.0</td>\n",
       "      <td>60.0</td>\n",
       "      <td>62.0</td>\n",
       "      <td>61.0</td>\n",
       "      <td>70.0</td>\n",
       "      <td>200.0</td>\n",
       "    </tr>\n",
       "  </tbody>\n",
       "</table>\n",
       "</div>"
      ],
      "text/plain": [
       "       0      1      2      3      4      5      6      7      8      9\n",
       "0  200.0   63.0   65.0   62.0   64.0   64.0   62.0   68.0   64.0   62.0\n",
       "1   63.0  200.0   61.0   63.0   63.0   61.0   61.0   62.0   62.0   64.0\n",
       "2   65.0   61.0  200.0   62.0   61.0   61.0   61.0   62.0   62.0   62.0\n",
       "3   62.0   63.0   62.0  200.0   62.0   61.0   63.0   61.0   63.0   61.0\n",
       "4   64.0   63.0   61.0   62.0  200.0   62.0   62.0   63.0   64.0   61.0\n",
       "5   64.0   61.0   61.0   61.0   62.0  200.0   60.0   63.0   63.0   60.0\n",
       "6   62.0   61.0   61.0   63.0   62.0   60.0  200.0   64.0   64.0   62.0\n",
       "7   68.0   62.0   62.0   61.0   63.0   63.0   64.0  200.0   62.0   61.0\n",
       "8   64.0   62.0   62.0   63.0   64.0   63.0   64.0   62.0  200.0   70.0\n",
       "9   62.0   64.0   62.0   61.0   61.0   60.0   62.0   61.0   70.0  200.0"
      ]
     },
     "execution_count": 121,
     "metadata": {},
     "output_type": "execute_result"
    }
   ],
   "source": [
    "max_hashFrag_df = pd.DataFrame(arr)\n",
    "max_hashFrag_df"
   ]
  },
  {
   "cell_type": "code",
   "execution_count": 126,
   "id": "44538d96-3004-413f-a47e-f8ad9d5f505d",
   "metadata": {
    "execution": {
     "iopub.execute_input": "2025-10-05T05:25:16.510478Z",
     "iopub.status.busy": "2025-10-05T05:25:16.509410Z",
     "iopub.status.idle": "2025-10-05T05:25:21.311792Z",
     "shell.execute_reply": "2025-10-05T05:25:21.310132Z",
     "shell.execute_reply.started": "2025-10-05T05:25:16.510455Z"
    },
    "tags": []
   },
   "outputs": [
    {
     "data": {
      "image/png": "[encoded data removed]",
      "text/plain": [
       "<Figure size 800x600 with 2 Axes>"
      ]
     },
     "metadata": {},
     "output_type": "display_data"
    }
   ],
   "source": [
    "mask_upper = np.triu(np.ones(max_chrom_df.shape, dtype=bool))  # includes diagonal\n",
    "mask_lower = np.tril(np.ones(max_chrom_df.shape, dtype=bool))  # includes diagonal\n",
    "combined_df = max_chrom_df.where(mask_upper, max_hashFrag_df)\n",
    "combined_df = combined_df.astype(float)\n",
    "\n",
    "# Plot\n",
    "plt.figure(figsize=(8, 6))\n",
    "sns.heatmap(\n",
    "    combined_df,\n",
    "    cmap=\"viridis\",\n",
    "    square=True,\n",
    "    linewidths=0.5,\n",
    "    cbar_kws={\"label\": \"Score\"},\n",
    ")\n",
    "\n",
    "plt.title(\"Upper triangle = Condition A, Lower triangle = Condition B\")\n",
    "plt.xlabel(\"Fold\")\n",
    "plt.ylabel(\"Fold\")\n",
    "plt.tight_layout()\n",
    "plt.show()"
   ]
  },
  {
   "cell_type": "code",
   "execution_count": 127,
   "id": "15881e37-8616-4722-b0eb-e77d4be57c39",
   "metadata": {
    "execution": {
     "iopub.execute_input": "2025-10-05T05:29:17.870122Z",
     "iopub.status.busy": "2025-10-05T05:29:17.585909Z",
     "iopub.status.idle": "2025-10-05T05:29:19.846318Z",
     "shell.execute_reply": "2025-10-05T05:29:19.749516Z",
     "shell.execute_reply.started": "2025-10-05T05:29:17.846064Z"
    },
    "tags": []
   },
   "outputs": [
    {
     "data": {
      "text/plain": [
       "63.0"
      ]
     },
     "execution_count": 127,
     "metadata": {},
     "output_type": "execute_result"
    }
   ],
   "source": [
    "max_hashFrag_df.iloc[0,1]"
   ]
  },
  {
   "cell_type": "code",
   "execution_count": 128,
   "id": "d20daeb1-0259-476d-8a09-1b50db9091a0",
   "metadata": {
    "execution": {
     "iopub.execute_input": "2025-10-05T05:29:55.211472Z",
     "iopub.status.busy": "2025-10-05T05:29:55.209406Z",
     "iopub.status.idle": "2025-10-05T05:29:55.278150Z",
     "shell.execute_reply": "2025-10-05T05:29:55.277741Z",
     "shell.execute_reply.started": "2025-10-05T05:29:55.211449Z"
    }
   },
   "outputs": [
    {
     "data": {
      "text/html": [
       "<div>\n",
       "<style scoped>\n",
       "    .dataframe tbody tr th:only-of-type {\n",
       "        vertical-align: middle;\n",
       "    }\n",
       "\n",
       "    .dataframe tbody tr th {\n",
       "        vertical-align: top;\n",
       "    }\n",
       "\n",
       "    .dataframe thead th {\n",
       "        text-align: right;\n",
       "    }\n",
       "</style>\n",
       "<table border=\"1\" class=\"dataframe\">\n",
       "  <thead>\n",
       "    <tr style=\"text-align: right;\">\n",
       "      <th></th>\n",
       "      <th>fold_i</th>\n",
       "      <th>fold_j</th>\n",
       "      <th>max_sw_score</th>\n",
       "      <th>condition</th>\n",
       "    </tr>\n",
       "  </thead>\n",
       "  <tbody>\n",
       "    <tr>\n",
       "      <th>0</th>\n",
       "      <td>0</td>\n",
       "      <td>0</td>\n",
       "      <td>200.0</td>\n",
       "      <td>hashFrag folds</td>\n",
       "    </tr>\n",
       "    <tr>\n",
       "      <th>1</th>\n",
       "      <td>0</td>\n",
       "      <td>1</td>\n",
       "      <td>186.0</td>\n",
       "      <td>Chromosomal folds</td>\n",
       "    </tr>\n",
       "    <tr>\n",
       "      <th>2</th>\n",
       "      <td>0</td>\n",
       "      <td>2</td>\n",
       "      <td>190.0</td>\n",
       "      <td>Chromosomal folds</td>\n",
       "    </tr>\n",
       "    <tr>\n",
       "      <th>3</th>\n",
       "      <td>0</td>\n",
       "      <td>3</td>\n",
       "      <td>184.0</td>\n",
       "      <td>Chromosomal folds</td>\n",
       "    </tr>\n",
       "    <tr>\n",
       "      <th>4</th>\n",
       "      <td>0</td>\n",
       "      <td>4</td>\n",
       "      <td>189.0</td>\n",
       "      <td>Chromosomal folds</td>\n",
       "    </tr>\n",
       "  </tbody>\n",
       "</table>\n",
       "</div>"
      ],
      "text/plain": [
       "   fold_i  fold_j  max_sw_score          condition\n",
       "0       0       0         200.0     hashFrag folds\n",
       "1       0       1         186.0  Chromosomal folds\n",
       "2       0       2         190.0  Chromosomal folds\n",
       "3       0       3         184.0  Chromosomal folds\n",
       "4       0       4         189.0  Chromosomal folds"
      ]
     },
     "metadata": {},
     "output_type": "display_data"
    },
    {
     "name": "stdout",
     "output_type": "stream",
     "text": [
      "(100, 4)\n"
     ]
    }
   ],
   "source": [
    "results_dict = {\n",
    "    \"fold_i\":[],\n",
    "    \"fold_j\":[],\n",
    "    \"max_sw_score\":[],\n",
    "    \"condition\":[]\n",
    "}\n",
    "for i in range(n_folds):\n",
    "    for j in range(n_folds):\n",
    "        if i < j:\n",
    "            results_dict[\"fold_i\"].append(i)\n",
    "            results_dict[\"fold_j\"].append(j)\n",
    "            results_dict[\"max_sw_score\"].append(max_chrom_df.iloc[i,j])\n",
    "            results_dict[\"condition\"].append(\"Chromosomal folds\")\n",
    "        else:\n",
    "            results_dict[\"fold_i\"].append(i)\n",
    "            results_dict[\"fold_j\"].append(j)\n",
    "            results_dict[\"max_sw_score\"].append(max_hashFrag_df.iloc[i,j])\n",
    "            results_dict[\"condition\"].append(\"hashFrag folds\")\n",
    "        # value = some_matrix[i, j]\n",
    "        # condition = \"A\" if i < j else \"B\"\n",
    "        # rows.append((i, j, value, condition))\n",
    "\n",
    "results_df = pd.DataFrame(results_dict)\n",
    "display(results_df.head())\n",
    "print(results_df.shape)"
   ]
  },
  {
   "cell_type": "code",
   "execution_count": 129,
   "id": "6d7a0297-18c2-412e-b9a6-df6ca84b4582",
   "metadata": {
    "execution": {
     "iopub.execute_input": "2025-10-05T05:30:46.854215Z",
     "iopub.status.busy": "2025-10-05T05:30:46.471980Z",
     "iopub.status.idle": "2025-10-05T05:30:47.379821Z",
     "shell.execute_reply": "2025-10-05T05:30:47.371634Z",
     "shell.execute_reply.started": "2025-10-05T05:30:46.850285Z"
    }
   },
   "outputs": [],
   "source": [
    "outpath = \"/home/brett/work/OrthogonalTrainValSplits/K562_orthoSplit/analysis/cross_fold_max_sw_analysis/aggregated.split.cross_fold_analysis.csv.gz\"\n",
    "results_df.to_csv(outpath,index=False,compression=\"gzip\")"
   ]
  },
  {
   "cell_type": "code",
   "execution_count": null,
   "id": "576c4acf-a2ae-4cb3-bd7f-c379ea7f99b7",
   "metadata": {},
   "outputs": [],
   "source": []
  }
 ],
 "metadata": {
  "kernelspec": {
   "display_name": "Python 3 (ipykernel)",
   "language": "python",
   "name": "python3"
  },
  "language_info": {
   "codemirror_mode": {
    "name": "ipython",
    "version": 3
   },
   "file_extension": ".py",
   "mimetype": "text/x-python",
   "name": "python",
   "nbconvert_exporter": "python",
   "pygments_lexer": "ipython3",
   "version": "3.9.15"
  }
 },
 "nbformat": 4,
 "nbformat_minor": 5
}
