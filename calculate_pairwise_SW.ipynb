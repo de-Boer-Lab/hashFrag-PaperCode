{
 "cells": [
  {
   "cell_type": "markdown",
   "id": "3381238a-5eb4-48c1-81ac-c237280a9c2d",
   "metadata": {},
   "source": [
    "# partitioning data"
   ]
  },
  {
   "cell_type": "code",
   "execution_count": 5,
   "id": "ff72fb10-4fcf-47af-a6f4-c8e6e5dd08d2",
   "metadata": {},
   "outputs": [
    {
     "name": "stdout",
     "output_type": "stream",
     "text": [
      "Done!\n"
     ]
    }
   ],
   "source": [
    "%%bash\n",
    "\n",
    "python src/partition_dataset.py -i data/K562.tsv -p 10 -o data/partitioned"
   ]
  },
  {
   "cell_type": "markdown",
   "id": "535f9e12-8580-41c0-b7fd-c46b634313af",
   "metadata": {},
   "source": [
    "# calculate alignment for the partition"
   ]
  },
  {
   "cell_type": "code",
   "execution_count": 6,
   "id": "12ed3866-aa89-4973-bb7e-ad415d05f7e8",
   "metadata": {},
   "outputs": [
    {
     "name": "stderr",
     "output_type": "stream",
     "text": [
      "/home/muntakimrafi/anaconda3/envs/hashFrag/lib/python3.13/site-packages/Bio/pairwise2.py:278: BiopythonDeprecationWarning: Bio.pairwise2 has been deprecated, and we intend to remove it in a future release of Biopython. As an alternative, please consider using Bio.Align.PairwiseAligner as a replacement, and contact the Biopython developers if you still need the Bio.pairwise2 module.\n",
      "  warnings.warn(\n",
      "/home/muntakimrafi/anaconda3/envs/hashFrag/lib/python3.13/site-packages/Bio/pairwise2.py:1432: BiopythonWarning: Import of C module failed. Falling back to pure Python implementation. This may be slooow...\n",
      "  warnings.warn(\n"
     ]
    },
    {
     "name": "stdout",
     "output_type": "stream",
     "text": [
      "\n",
      "Batch pairwise sequence alignment scores...\n",
      "\n",
      "Parsing partitioned FASTA files for sequence lists...\n",
      "\n",
      "Pairwise calculation of Smith-Waterman scores...\n"
     ]
    },
    {
     "name": "stderr",
     "output_type": "stream",
     "text": [
      "100%|██████████████████████████████████████████| 10/10 [00:00<00:00, 70.08it/s]\n",
      "100%|██████████████████████████████████████████| 10/10 [00:00<00:00, 71.52it/s]\n",
      "100%|██████████████████████████████████████████| 10/10 [00:00<00:00, 71.70it/s]\n",
      "100%|██████████████████████████████████████████| 10/10 [00:00<00:00, 71.80it/s]\n",
      "100%|██████████████████████████████████████████| 10/10 [00:00<00:00, 71.55it/s]\n",
      "100%|██████████████████████████████████████████| 10/10 [00:00<00:00, 71.63it/s]\n",
      "100%|██████████████████████████████████████████| 10/10 [00:00<00:00, 71.47it/s]\n",
      "100%|██████████████████████████████████████████| 10/10 [00:00<00:00, 71.42it/s]\n",
      "100%|██████████████████████████████████████████| 10/10 [00:00<00:00, 71.02it/s]\n",
      "100%|██████████████████████████████████████████| 10/10 [00:00<00:00, 71.22it/s]\n"
     ]
    },
    {
     "name": "stdout",
     "output_type": "stream",
     "text": [
      "Writing pairwise alignment scores to .txt.gz file...\n",
      "Done!\n"
     ]
    }
   ],
   "source": [
    "%%bash\n",
    "\n",
    "DISTANCES_DIR=data/batch_alignments\n",
    "mkdir -p $DISTANCES_DIR\n",
    "\n",
    "python src/batch_sequence_alignment.py -i data/partitioned/K562.part_001.fa.gz -j data/partitioned/K562.part_002.fa.gz -o data/batch_alignments/K562.part_001.part_002.txt.gz"
   ]
  },
  {
   "cell_type": "markdown",
   "id": "ef190a0f-5df7-4423-8cb8-88cd597e90b0",
   "metadata": {},
   "source": [
    "# submit an array job that computes the alignment scores for different partitions of the dataset"
   ]
  },
  {
   "cell_type": "markdown",
   "id": "11d93c9c-93c8-47a8-9a8c-d49c77c3b3d6",
   "metadata": {},
   "source": [
    "##### A skeleton of that script is provided below"
   ]
  },
  {
   "cell_type": "code",
   "execution_count": 7,
   "id": "10d65c1d-a2a2-43ee-a45f-b8ca86d40a24",
   "metadata": {},
   "outputs": [
    {
     "name": "stdout",
     "output_type": "stream",
     "text": [
      "Fasta path i: data/partitioned/K562.part_001.fa.gz\n",
      "Fasta path j: data/partitioned/K562.part_001.fa.gz\n",
      "Output path:  data/batch_alignments/K562.part_001.part_001.txt.gz\n"
     ]
    },
    {
     "name": "stderr",
     "output_type": "stream",
     "text": [
      "/home/muntakimrafi/anaconda3/envs/hashFrag/lib/python3.13/site-packages/Bio/pairwise2.py:278: BiopythonDeprecationWarning: Bio.pairwise2 has been deprecated, and we intend to remove it in a future release of Biopython. As an alternative, please consider using Bio.Align.PairwiseAligner as a replacement, and contact the Biopython developers if you still need the Bio.pairwise2 module.\n",
      "  warnings.warn(\n",
      "/home/muntakimrafi/anaconda3/envs/hashFrag/lib/python3.13/site-packages/Bio/pairwise2.py:1432: BiopythonWarning: Import of C module failed. Falling back to pure Python implementation. This may be slooow...\n",
      "  warnings.warn(\n"
     ]
    },
    {
     "name": "stdout",
     "output_type": "stream",
     "text": [
      "\n",
      "Batch pairwise sequence alignment scores...\n",
      "\n",
      "Parsing partitioned FASTA files for sequence lists...\n",
      "\n",
      "Pairwise calculation of Smith-Waterman scores...\n"
     ]
    },
    {
     "name": "stderr",
     "output_type": "stream",
     "text": [
      "100%|██████████████████████████████████████████| 10/10 [00:00<00:00, 70.58it/s]\n",
      "100%|██████████████████████████████████████████| 10/10 [00:00<00:00, 71.16it/s]\n",
      "100%|██████████████████████████████████████████| 10/10 [00:00<00:00, 71.85it/s]\n",
      "100%|██████████████████████████████████████████| 10/10 [00:00<00:00, 71.87it/s]\n",
      "100%|██████████████████████████████████████████| 10/10 [00:00<00:00, 71.64it/s]\n",
      "100%|██████████████████████████████████████████| 10/10 [00:00<00:00, 71.78it/s]\n",
      "100%|██████████████████████████████████████████| 10/10 [00:00<00:00, 70.64it/s]\n",
      "100%|██████████████████████████████████████████| 10/10 [00:00<00:00, 70.57it/s]\n",
      "100%|██████████████████████████████████████████| 10/10 [00:00<00:00, 71.49it/s]\n",
      "100%|██████████████████████████████████████████| 10/10 [00:00<00:00, 71.87it/s]\n"
     ]
    },
    {
     "name": "stdout",
     "output_type": "stream",
     "text": [
      "Writing pairwise alignment scores to .txt.gz file...\n",
      "Done!\n",
      "Fasta path i: data/partitioned/K562.part_001.fa.gz\n",
      "Fasta path j: data/partitioned/K562.part_002.fa.gz\n",
      "Output path:  data/batch_alignments/K562.part_001.part_002.txt.gz\n"
     ]
    },
    {
     "name": "stderr",
     "output_type": "stream",
     "text": [
      "/home/muntakimrafi/anaconda3/envs/hashFrag/lib/python3.13/site-packages/Bio/pairwise2.py:278: BiopythonDeprecationWarning: Bio.pairwise2 has been deprecated, and we intend to remove it in a future release of Biopython. As an alternative, please consider using Bio.Align.PairwiseAligner as a replacement, and contact the Biopython developers if you still need the Bio.pairwise2 module.\n",
      "  warnings.warn(\n",
      "/home/muntakimrafi/anaconda3/envs/hashFrag/lib/python3.13/site-packages/Bio/pairwise2.py:1432: BiopythonWarning: Import of C module failed. Falling back to pure Python implementation. This may be slooow...\n",
      "  warnings.warn(\n"
     ]
    },
    {
     "name": "stdout",
     "output_type": "stream",
     "text": [
      "\n",
      "Batch pairwise sequence alignment scores...\n",
      "\n",
      "Parsing partitioned FASTA files for sequence lists...\n",
      "\n",
      "Pairwise calculation of Smith-Waterman scores...\n"
     ]
    },
    {
     "name": "stderr",
     "output_type": "stream",
     "text": [
      "100%|██████████████████████████████████████████| 10/10 [00:00<00:00, 67.87it/s]\n",
      "100%|██████████████████████████████████████████| 10/10 [00:00<00:00, 69.23it/s]\n",
      "100%|██████████████████████████████████████████| 10/10 [00:00<00:00, 69.32it/s]\n",
      "100%|██████████████████████████████████████████| 10/10 [00:00<00:00, 64.22it/s]\n",
      "100%|██████████████████████████████████████████| 10/10 [00:00<00:00, 69.01it/s]\n",
      "100%|██████████████████████████████████████████| 10/10 [00:00<00:00, 70.10it/s]\n",
      "100%|██████████████████████████████████████████| 10/10 [00:00<00:00, 69.92it/s]\n",
      "100%|██████████████████████████████████████████| 10/10 [00:00<00:00, 68.69it/s]\n",
      "100%|██████████████████████████████████████████| 10/10 [00:00<00:00, 68.91it/s]\n",
      "100%|██████████████████████████████████████████| 10/10 [00:00<00:00, 70.31it/s]\n"
     ]
    },
    {
     "name": "stdout",
     "output_type": "stream",
     "text": [
      "Writing pairwise alignment scores to .txt.gz file...\n",
      "Done!\n",
      "Fasta path i: data/partitioned/K562.part_001.fa.gz\n",
      "Fasta path j: data/partitioned/K562.part_003.fa.gz\n",
      "Output path:  data/batch_alignments/K562.part_001.part_003.txt.gz\n"
     ]
    },
    {
     "name": "stderr",
     "output_type": "stream",
     "text": [
      "/home/muntakimrafi/anaconda3/envs/hashFrag/lib/python3.13/site-packages/Bio/pairwise2.py:278: BiopythonDeprecationWarning: Bio.pairwise2 has been deprecated, and we intend to remove it in a future release of Biopython. As an alternative, please consider using Bio.Align.PairwiseAligner as a replacement, and contact the Biopython developers if you still need the Bio.pairwise2 module.\n",
      "  warnings.warn(\n",
      "/home/muntakimrafi/anaconda3/envs/hashFrag/lib/python3.13/site-packages/Bio/pairwise2.py:1432: BiopythonWarning: Import of C module failed. Falling back to pure Python implementation. This may be slooow...\n",
      "  warnings.warn(\n"
     ]
    },
    {
     "name": "stdout",
     "output_type": "stream",
     "text": [
      "\n",
      "Batch pairwise sequence alignment scores...\n",
      "\n",
      "Parsing partitioned FASTA files for sequence lists...\n",
      "\n",
      "Pairwise calculation of Smith-Waterman scores...\n"
     ]
    },
    {
     "name": "stderr",
     "output_type": "stream",
     "text": [
      "100%|████████████████████████████████████████████| 2/2 [00:00<00:00, 64.18it/s]\n",
      "100%|████████████████████████████████████████████| 2/2 [00:00<00:00, 68.95it/s]\n",
      "100%|████████████████████████████████████████████| 2/2 [00:00<00:00, 69.71it/s]\n",
      "100%|████████████████████████████████████████████| 2/2 [00:00<00:00, 68.31it/s]\n",
      "100%|████████████████████████████████████████████| 2/2 [00:00<00:00, 70.53it/s]\n",
      "100%|████████████████████████████████████████████| 2/2 [00:00<00:00, 70.26it/s]\n",
      "100%|████████████████████████████████████████████| 2/2 [00:00<00:00, 70.71it/s]\n",
      "100%|████████████████████████████████████████████| 2/2 [00:00<00:00, 69.80it/s]\n",
      "100%|████████████████████████████████████████████| 2/2 [00:00<00:00, 70.44it/s]\n",
      "100%|████████████████████████████████████████████| 2/2 [00:00<00:00, 70.27it/s]\n"
     ]
    },
    {
     "name": "stdout",
     "output_type": "stream",
     "text": [
      "Writing pairwise alignment scores to .txt.gz file...\n",
      "Done!\n",
      "Fasta path i: data/partitioned/K562.part_002.fa.gz\n",
      "Fasta path j: data/partitioned/K562.part_002.fa.gz\n",
      "Output path:  data/batch_alignments/K562.part_002.part_002.txt.gz\n"
     ]
    },
    {
     "name": "stderr",
     "output_type": "stream",
     "text": [
      "/home/muntakimrafi/anaconda3/envs/hashFrag/lib/python3.13/site-packages/Bio/pairwise2.py:278: BiopythonDeprecationWarning: Bio.pairwise2 has been deprecated, and we intend to remove it in a future release of Biopython. As an alternative, please consider using Bio.Align.PairwiseAligner as a replacement, and contact the Biopython developers if you still need the Bio.pairwise2 module.\n",
      "  warnings.warn(\n",
      "/home/muntakimrafi/anaconda3/envs/hashFrag/lib/python3.13/site-packages/Bio/pairwise2.py:1432: BiopythonWarning: Import of C module failed. Falling back to pure Python implementation. This may be slooow...\n",
      "  warnings.warn(\n"
     ]
    },
    {
     "name": "stdout",
     "output_type": "stream",
     "text": [
      "\n",
      "Batch pairwise sequence alignment scores...\n",
      "\n",
      "Parsing partitioned FASTA files for sequence lists...\n",
      "\n",
      "Pairwise calculation of Smith-Waterman scores...\n"
     ]
    },
    {
     "name": "stderr",
     "output_type": "stream",
     "text": [
      "100%|██████████████████████████████████████████| 10/10 [00:00<00:00, 68.12it/s]\n",
      "100%|██████████████████████████████████████████| 10/10 [00:00<00:00, 70.87it/s]\n",
      "100%|██████████████████████████████████████████| 10/10 [00:00<00:00, 71.87it/s]\n",
      "100%|██████████████████████████████████████████| 10/10 [00:00<00:00, 67.78it/s]\n",
      "100%|██████████████████████████████████████████| 10/10 [00:00<00:00, 71.92it/s]\n",
      "100%|██████████████████████████████████████████| 10/10 [00:00<00:00, 70.62it/s]\n",
      "100%|██████████████████████████████████████████| 10/10 [00:00<00:00, 72.21it/s]\n",
      "100%|██████████████████████████████████████████| 10/10 [00:00<00:00, 71.97it/s]\n",
      "100%|██████████████████████████████████████████| 10/10 [00:00<00:00, 70.21it/s]\n",
      "100%|██████████████████████████████████████████| 10/10 [00:00<00:00, 70.06it/s]\n"
     ]
    },
    {
     "name": "stdout",
     "output_type": "stream",
     "text": [
      "Writing pairwise alignment scores to .txt.gz file...\n",
      "Done!\n",
      "Fasta path i: data/partitioned/K562.part_002.fa.gz\n",
      "Fasta path j: data/partitioned/K562.part_003.fa.gz\n",
      "Output path:  data/batch_alignments/K562.part_002.part_003.txt.gz\n"
     ]
    },
    {
     "name": "stderr",
     "output_type": "stream",
     "text": [
      "/home/muntakimrafi/anaconda3/envs/hashFrag/lib/python3.13/site-packages/Bio/pairwise2.py:278: BiopythonDeprecationWarning: Bio.pairwise2 has been deprecated, and we intend to remove it in a future release of Biopython. As an alternative, please consider using Bio.Align.PairwiseAligner as a replacement, and contact the Biopython developers if you still need the Bio.pairwise2 module.\n",
      "  warnings.warn(\n",
      "/home/muntakimrafi/anaconda3/envs/hashFrag/lib/python3.13/site-packages/Bio/pairwise2.py:1432: BiopythonWarning: Import of C module failed. Falling back to pure Python implementation. This may be slooow...\n",
      "  warnings.warn(\n"
     ]
    },
    {
     "name": "stdout",
     "output_type": "stream",
     "text": [
      "\n",
      "Batch pairwise sequence alignment scores...\n",
      "\n",
      "Parsing partitioned FASTA files for sequence lists...\n",
      "\n",
      "Pairwise calculation of Smith-Waterman scores...\n"
     ]
    },
    {
     "name": "stderr",
     "output_type": "stream",
     "text": [
      "100%|████████████████████████████████████████████| 2/2 [00:00<00:00, 68.82it/s]\n",
      "100%|████████████████████████████████████████████| 2/2 [00:00<00:00, 70.95it/s]\n",
      "100%|████████████████████████████████████████████| 2/2 [00:00<00:00, 71.12it/s]\n",
      "100%|████████████████████████████████████████████| 2/2 [00:00<00:00, 71.47it/s]\n",
      "100%|████████████████████████████████████████████| 2/2 [00:00<00:00, 71.48it/s]\n",
      "100%|████████████████████████████████████████████| 2/2 [00:00<00:00, 71.94it/s]\n",
      "100%|████████████████████████████████████████████| 2/2 [00:00<00:00, 71.71it/s]\n",
      "100%|████████████████████████████████████████████| 2/2 [00:00<00:00, 71.93it/s]\n",
      "100%|████████████████████████████████████████████| 2/2 [00:00<00:00, 71.66it/s]\n",
      "100%|████████████████████████████████████████████| 2/2 [00:00<00:00, 71.82it/s]\n"
     ]
    },
    {
     "name": "stdout",
     "output_type": "stream",
     "text": [
      "Writing pairwise alignment scores to .txt.gz file...\n",
      "Done!\n",
      "Fasta path i: data/partitioned/K562.part_003.fa.gz\n",
      "Fasta path j: data/partitioned/K562.part_003.fa.gz\n",
      "Output path:  data/batch_alignments/K562.part_003.part_003.txt.gz\n"
     ]
    },
    {
     "name": "stderr",
     "output_type": "stream",
     "text": [
      "/home/muntakimrafi/anaconda3/envs/hashFrag/lib/python3.13/site-packages/Bio/pairwise2.py:278: BiopythonDeprecationWarning: Bio.pairwise2 has been deprecated, and we intend to remove it in a future release of Biopython. As an alternative, please consider using Bio.Align.PairwiseAligner as a replacement, and contact the Biopython developers if you still need the Bio.pairwise2 module.\n",
      "  warnings.warn(\n",
      "/home/muntakimrafi/anaconda3/envs/hashFrag/lib/python3.13/site-packages/Bio/pairwise2.py:1432: BiopythonWarning: Import of C module failed. Falling back to pure Python implementation. This may be slooow...\n",
      "  warnings.warn(\n"
     ]
    },
    {
     "name": "stdout",
     "output_type": "stream",
     "text": [
      "\n",
      "Batch pairwise sequence alignment scores...\n",
      "\n",
      "Parsing partitioned FASTA files for sequence lists...\n",
      "\n",
      "Pairwise calculation of Smith-Waterman scores...\n"
     ]
    },
    {
     "name": "stderr",
     "output_type": "stream",
     "text": [
      "100%|████████████████████████████████████████████| 2/2 [00:00<00:00, 70.00it/s]\n",
      "100%|████████████████████████████████████████████| 2/2 [00:00<00:00, 72.74it/s]\n"
     ]
    },
    {
     "name": "stdout",
     "output_type": "stream",
     "text": [
      "Writing pairwise alignment scores to .txt.gz file...\n",
      "Done!\n"
     ]
    }
   ],
   "source": [
    "%%bash\n",
    "\n",
    "FASTA_FILEPATHS=data/partitioned/filepaths.txt\n",
    "N_PARTITIONS=$( cat $FASTA_FILEPATHS | wc -l )\n",
    "DISTANCES_DIR=data/batch_alignments\n",
    "N_PARTITIONS=$( cat $FASTA_FILEPATHS | wc -l )\n",
    "\n",
    "for SLURM_ARRAY_TASK_ID in {1..6};do\n",
    "    PAIRWISE_INFO=$( sed -n ${SLURM_ARRAY_TASK_ID}p $FASTA_FILEPATHS )\n",
    "    FILENAME=$( echo $PAIRWISE_INFO | cut -d \",\" -f 1 )\n",
    "    FASTA_PATH_i=$( echo $PAIRWISE_INFO | cut -d \",\" -f 2 )\n",
    "    FASTA_PATH_j=$( echo $PAIRWISE_INFO | cut -d \",\" -f 3 )\n",
    "    OUTPATH=$DISTANCES_DIR/${FILENAME}\n",
    "\n",
    "    echo \"Fasta path i: ${FASTA_PATH_i}\"\n",
    "    echo \"Fasta path j: ${FASTA_PATH_j}\"\n",
    "    echo \"Output path:  ${OUTPATH}\"\n",
    "\n",
    "    python src/batch_sequence_alignment.py \\\n",
    "    -i $FASTA_PATH_i \\\n",
    "    -j $FASTA_PATH_j \\\n",
    "    -o $OUTPATH\n",
    "    \n",
    "done"
   ]
  },
  {
   "cell_type": "markdown",
   "id": "4eda6c74-ad56-4774-9905-ff2b72ec8881",
   "metadata": {},
   "source": [
    "# merging the computations to create the full matrix"
   ]
  },
  {
   "cell_type": "code",
   "execution_count": 8,
   "id": "a318da5d-e517-4cc6-a44b-0de91a5f33f7",
   "metadata": {},
   "outputs": [
    {
     "name": "stdout",
     "output_type": "stream",
     "text": [
      "\n",
      "All-all matrix construction of batched pairwise sequence comparisons.\n",
      "\n",
      "Extracting complete list of sequence ids...\n",
      "Constructing all-all alignment matrix...\n",
      "\tK562.part_001.part_001.txt.gz (1/6)\n",
      "\tK562.part_001.part_002.txt.gz (2/6)\n",
      "\tK562.part_001.part_003.txt.gz (3/6)\n",
      "\tK562.part_002.part_002.txt.gz (4/6)\n",
      "\tK562.part_002.part_003.txt.gz (5/6)\n",
      "\tK562.part_003.part_003.txt.gz (6/6)\n",
      "Writing alignment array.\n",
      "Writing sequence ID list.\n",
      "Done!\n"
     ]
    }
   ],
   "source": [
    "%%bash\n",
    "\n",
    "python src/batch_matrix_construction.py \\\n",
    "-i data/partitioned \\\n",
    "-d data/batch_alignments \\\n",
    "-m smith_waterman \\\n",
    "-o data/smith_waterman.darray.pbz2"
   ]
  },
  {
   "cell_type": "markdown",
   "id": "ddaf6ce4-bda9-4f95-9154-0b4041e79eb8",
   "metadata": {},
   "source": [
    "# read the all by all matrix"
   ]
  },
  {
   "cell_type": "code",
   "execution_count": 9,
   "id": "b0b8df76-358c-442e-aaad-5391e210ed22",
   "metadata": {},
   "outputs": [],
   "source": [
    "import bz2\n",
    "import pickle"
   ]
  },
  {
   "cell_type": "code",
   "execution_count": 10,
   "id": "f818232d-923e-4424-b649-7fe1898a476d",
   "metadata": {},
   "outputs": [],
   "source": [
    "with bz2.BZ2File(\"data/smith_waterman.darray.pbz2\",\"rb\") as handle:\n",
    "    distarray = pickle.load(handle)"
   ]
  },
  {
   "cell_type": "code",
   "execution_count": 11,
   "id": "ac2492d1-99ed-4701-a0ab-dee0e7c12b46",
   "metadata": {},
   "outputs": [],
   "source": [
    "with open(\"data/smith_waterman.seqids.txt\",\"r\") as handle:\n",
    "    idmap = handle.read().splitlines()"
   ]
  },
  {
   "cell_type": "markdown",
   "id": "219d6083-9996-4679-9455-eaf71508a765",
   "metadata": {},
   "source": [
    "# create chromosomal splits"
   ]
  },
  {
   "cell_type": "code",
   "execution_count": 10,
   "id": "3c3b41e0-3bf3-4999-9cea-461b81d95ad3",
   "metadata": {},
   "outputs": [],
   "source": [
    "%%bash\n",
    "\n",
    "python src/create_chromosomal_splits.py \\\n",
    "-i \"data/K562.tsv\" \\\n",
    "-tr \"data/train_chroms_0.txt\" \\\n",
    "-o \"data/\""
   ]
  },
  {
   "cell_type": "markdown",
   "id": "ca4e0d37-9bd8-4a64-a818-b5f659cc4fad",
   "metadata": {},
   "source": [
    "# Calculate similarity statistics between two sets of sequences"
   ]
  },
  {
   "cell_type": "code",
   "execution_count": 19,
   "id": "22b2abc3-bc87-4885-b1cb-e25bba27e03e",
   "metadata": {},
   "outputs": [],
   "source": [
    "%%bash\n",
    "\n",
    "python src/calculate_similarity_stats.py \\\n",
    "-m \"data/smith_waterman.darray.pbz2\" \\\n",
    "-s \"data/smith_waterman.seqids.txt\" \\\n",
    "-tr \"data/train_indices.txt\" \\\n",
    "-te \"data/test_indices.txt\" \\\n",
    "-o \"sw_stats\""
   ]
  },
  {
   "cell_type": "markdown",
   "id": "0bf39de6-046f-41e0-91d5-b066a333a458",
   "metadata": {},
   "source": [
    "# find all sequence pairs that have similarity above a threshold"
   ]
  },
  {
   "cell_type": "code",
   "execution_count": 2,
   "id": "492c89ad-7ae0-45e0-b49d-c477d1a74f3c",
   "metadata": {},
   "outputs": [
    {
     "name": "stderr",
     "output_type": "stream",
     "text": [
      "/home/muntakimrafi/anaconda3/envs/hashFrag/lib/python3.13/site-packages/Bio/pairwise2.py:278: BiopythonDeprecationWarning: Bio.pairwise2 has been deprecated, and we intend to remove it in a future release of Biopython. As an alternative, please consider using Bio.Align.PairwiseAligner as a replacement, and contact the Biopython developers if you still need the Bio.pairwise2 module.\n",
      "  warnings.warn(\n",
      "/home/muntakimrafi/anaconda3/envs/hashFrag/lib/python3.13/site-packages/Bio/pairwise2.py:1432: BiopythonWarning: Import of C module failed. Falling back to pure Python implementation. This may be slooow...\n",
      "  warnings.warn(\n"
     ]
    }
   ],
   "source": [
    "%%bash\n",
    "\n",
    "python src/find_all_similar_seq_pairs_above_threshold.py \\\n",
    "-m \"data/smith_waterman.darray.pbz2\" \\\n",
    "-s \"data/smith_waterman.seqids.txt\" \\\n",
    "-t 10 \\\n",
    "-o \"data/\""
   ]
  },
  {
   "cell_type": "markdown",
   "id": "b555b214-3328-48b9-a284-b9fde6a72444",
   "metadata": {},
   "source": [
    "# find top N matches between training and test sequences"
   ]
  },
  {
   "cell_type": "code",
   "execution_count": 3,
   "id": "418490ea-d011-43f4-bbd1-5518e3b3af94",
   "metadata": {},
   "outputs": [],
   "source": [
    "%%bash\n",
    "\n",
    "python src/find_top_k_similar_seqs.py \\\n",
    "-m \"data/smith_waterman.darray.pbz2\" \\\n",
    "-s \"data/smith_waterman.seqids.txt\" \\\n",
    "-k 10 \\\n",
    "-o \"data/top_10.txt\""
   ]
  },
  {
   "cell_type": "markdown",
   "id": "6fd5c639-5c4b-46cf-8a4f-5b464c95eca6",
   "metadata": {},
   "source": [
    "# OverfitNN"
   ]
  },
  {
   "cell_type": "code",
   "execution_count": 63,
   "id": "9cea65ae-b839-4870-b179-067fd2616340",
   "metadata": {},
   "outputs": [
    {
     "name": "stderr",
     "output_type": "stream",
     "text": [
      "/home/muntakimrafi/anaconda3/envs/hashFrag/lib/python3.13/site-packages/Bio/pairwise2.py:278: BiopythonDeprecationWarning: Bio.pairwise2 has been deprecated, and we intend to remove it in a future release of Biopython. As an alternative, please consider using Bio.Align.PairwiseAligner as a replacement, and contact the Biopython developers if you still need the Bio.pairwise2 module.\n",
      "  warnings.warn(\n",
      "/home/muntakimrafi/anaconda3/envs/hashFrag/lib/python3.13/site-packages/Bio/pairwise2.py:1432: BiopythonWarning: Import of C module failed. Falling back to pure Python implementation. This may be slooow...\n",
      "  warnings.warn(\n",
      "0it [00:00, ?it/s]/home/muntakimrafi/rafi/Codes/Seq_Orthogonality/hashFrag-PaperCode/src/overfitNN.py:79: DeprecationWarning: DataFrameGroupBy.apply operated on the grouping columns. This behavior is deprecated, and in a future version of pandas the grouping columns will be excluded from the operation. Either pass `include_groups=False` to exclude the groupings or explicitly select the grouping columns after groupby to silence this warning.\n",
      "  temp_df = temp_df.groupby('id_j').apply(filter_and_aggregate)\n",
      "/home/muntakimrafi/rafi/Codes/Seq_Orthogonality/hashFrag-PaperCode/src/overfitNN.py:79: DeprecationWarning: DataFrameGroupBy.apply operated on the grouping columns. This behavior is deprecated, and in a future version of pandas the grouping columns will be excluded from the operation. Either pass `include_groups=False` to exclude the groupings or explicitly select the grouping columns after groupby to silence this warning.\n",
      "  temp_df = temp_df.groupby('id_j').apply(filter_and_aggregate)\n",
      "/home/muntakimrafi/rafi/Codes/Seq_Orthogonality/hashFrag-PaperCode/src/overfitNN.py:79: DeprecationWarning: DataFrameGroupBy.apply operated on the grouping columns. This behavior is deprecated, and in a future version of pandas the grouping columns will be excluded from the operation. Either pass `include_groups=False` to exclude the groupings or explicitly select the grouping columns after groupby to silence this warning.\n",
      "  temp_df = temp_df.groupby('id_j').apply(filter_and_aggregate)\n",
      "3it [00:00, 139.72it/s]\n"
     ]
    },
    {
     "name": "stdout",
     "output_type": "stream",
     "text": [
      "[np.float64(-0.1034167093173372), np.float64(0.18652733107458636), nan]\n"
     ]
    }
   ],
   "source": [
    "%%bash\n",
    "\n",
    "python src/overfitNN.py \\\n",
    "-i \"data/top_10.txt\" \\\n",
    "-mx 30 \\\n",
    "-mn 10 \\\n",
    "-bw 10 \\\n",
    "-p 0.05 \\\n",
    "-n 1 \\\n",
    "-tr \"data/train.txt\" \\\n",
    "-te \"data/test.txt\""
   ]
  },
  {
   "cell_type": "markdown",
   "id": "e27a1122-2cce-49a1-af62-96604afea151",
   "metadata": {},
   "source": [
    "# calculate sequence alignment between two datasets (from scratch)"
   ]
  },
  {
   "cell_type": "code",
   "execution_count": 69,
   "id": "e3e2b314-39d0-48cd-b6a6-09639f26d5c2",
   "metadata": {},
   "outputs": [
    {
     "name": "stderr",
     "output_type": "stream",
     "text": [
      "/home/muntakimrafi/anaconda3/envs/hashFrag/lib/python3.13/site-packages/Bio/pairwise2.py:278: BiopythonDeprecationWarning: Bio.pairwise2 has been deprecated, and we intend to remove it in a future release of Biopython. As an alternative, please consider using Bio.Align.PairwiseAligner as a replacement, and contact the Biopython developers if you still need the Bio.pairwise2 module.\n",
      "  warnings.warn(\n",
      "/home/muntakimrafi/anaconda3/envs/hashFrag/lib/python3.13/site-packages/Bio/pairwise2.py:1432: BiopythonWarning: Import of C module failed. Falling back to pure Python implementation. This may be slooow...\n",
      "  warnings.warn(\n",
      "100%|████████████████████████████████████████| 5/5 [00:00<00:00, 195995.51it/s]\n",
      "100%|█████████████████████████████████████████| 85/85 [00:00<00:00, 402.89it/s]\n"
     ]
    }
   ],
   "source": [
    "%%bash\n",
    "\n",
    "python src/calculate_similarity_between_two_sets.py \\\n",
    "-set1 \"data/train.txt\" \\\n",
    "-set2 \"data/test.txt\" \\\n",
    "-t 12 \\\n",
    "-s \"genomic\" \\\n",
    "-o \"data/sw.npy\""
   ]
  },
  {
   "cell_type": "markdown",
   "id": "6a959a4e-e64b-4f9b-bde7-e45b39455e1a",
   "metadata": {},
   "source": [
    "# selecting a threshold"
   ]
  },
  {
   "cell_type": "markdown",
   "id": "d48ccb3f-d42d-43a3-9242-946da85a8e00",
   "metadata": {},
   "source": [
    "##### calculate the similarity between two sets of genomic sequences and unrelated sequences and compare the maximum SW score the sequences have across the sets to decide on a threhsold"
   ]
  },
  {
   "cell_type": "code",
   "execution_count": 68,
   "id": "497c585c-b32f-4450-90f0-e206953e06af",
   "metadata": {},
   "outputs": [
    {
     "name": "stderr",
     "output_type": "stream",
     "text": [
      "/home/muntakimrafi/anaconda3/envs/hashFrag/lib/python3.13/site-packages/Bio/pairwise2.py:278: BiopythonDeprecationWarning: Bio.pairwise2 has been deprecated, and we intend to remove it in a future release of Biopython. As an alternative, please consider using Bio.Align.PairwiseAligner as a replacement, and contact the Biopython developers if you still need the Bio.pairwise2 module.\n",
      "  warnings.warn(\n",
      "/home/muntakimrafi/anaconda3/envs/hashFrag/lib/python3.13/site-packages/Bio/pairwise2.py:1432: BiopythonWarning: Import of C module failed. Falling back to pure Python implementation. This may be slooow...\n",
      "  warnings.warn(\n",
      "100%|██████████████████████████████████████████| 5/5 [00:00<00:00, 1358.61it/s]\n",
      "100%|████████████████████████████████████████| 17/17 [00:00<00:00, 1284.07it/s]\n",
      "100%|████████████████████████████████████████| 5/5 [00:00<00:00, 279620.27it/s]\n",
      "100%|█████████████████████████████████████████| 85/85 [00:00<00:00, 414.12it/s]\n"
     ]
    }
   ],
   "source": [
    "%%bash\n",
    "\n",
    "python src/calculate_similarity_between_two_sets.py \\\n",
    "-set1 \"data/train.txt\" \\\n",
    "-set2 \"data/test.txt\" \\\n",
    "-t 12 \\\n",
    "-s \"dinucleotide_shuffle\" \\\n",
    "-o \"data/sw_shuffled.npy\""
   ]
  },
  {
   "cell_type": "markdown",
   "id": "19389255-0f73-4f1a-82ed-ae7e038083d2",
   "metadata": {},
   "source": [
    "# calculate maximum sequence alignment between two sets (from an all by all matrix)"
   ]
  },
  {
   "cell_type": "code",
   "execution_count": 77,
   "id": "7125294d-7d4f-4421-aa18-2e1c989bb2da",
   "metadata": {},
   "outputs": [
    {
     "name": "stderr",
     "output_type": "stream",
     "text": [
      "/home/muntakimrafi/anaconda3/envs/hashFrag/lib/python3.13/site-packages/Bio/pairwise2.py:278: BiopythonDeprecationWarning: Bio.pairwise2 has been deprecated, and we intend to remove it in a future release of Biopython. As an alternative, please consider using Bio.Align.PairwiseAligner as a replacement, and contact the Biopython developers if you still need the Bio.pairwise2 module.\n",
      "  warnings.warn(\n",
      "/home/muntakimrafi/anaconda3/envs/hashFrag/lib/python3.13/site-packages/Bio/pairwise2.py:1432: BiopythonWarning: Import of C module failed. Falling back to pure Python implementation. This may be slooow...\n",
      "  warnings.warn(\n"
     ]
    }
   ],
   "source": [
    "%%bash\n",
    "\n",
    "python src/calculate_max_alignment_between_two_sets.py \\\n",
    "-m \"data/smith_waterman.darray.pbz2\" \\\n",
    "-set1 \"data/train_indices.txt\" \\\n",
    "-set2 \"data/test_indices.txt\" \\\n",
    "-o \"data/max_sw.npy\""
   ]
  },
  {
   "cell_type": "markdown",
   "id": "f83a6fa4-0c46-4d04-b02e-fadc66296bc9",
   "metadata": {},
   "source": [
    "# clustermap"
   ]
  },
  {
   "cell_type": "code",
   "execution_count": null,
   "id": "6b337db5-ed32-498c-a101-f677d385acf4",
   "metadata": {},
   "outputs": [],
   "source": [
    "%%bash\n",
    "\n",
    "python src/clustermap.py \\\n",
    "-m \"data/smith_waterman.darray.pbz2\" \\\n",
    "-s \"data/smith_waterman.seqids.txt\" \\\n",
    "-set1 \"data/train_indices.txt\" \\\n",
    "-set2 \"data/test_indices.txt\" \\\n",
    "-mx 20 \\\n",
    "-mn 15 \\\n",
    "-o \"data/\""
   ]
  }
 ],
 "metadata": {
  "kernelspec": {
   "display_name": "Python 3 (ipykernel)",
   "language": "python",
   "name": "python3"
  },
  "language_info": {
   "codemirror_mode": {
    "name": "ipython",
    "version": 3
   },
   "file_extension": ".py",
   "mimetype": "text/x-python",
   "name": "python",
   "nbconvert_exporter": "python",
   "pygments_lexer": "ipython3",
   "version": "3.13.1"
  }
 },
 "nbformat": 4,
 "nbformat_minor": 5
}
