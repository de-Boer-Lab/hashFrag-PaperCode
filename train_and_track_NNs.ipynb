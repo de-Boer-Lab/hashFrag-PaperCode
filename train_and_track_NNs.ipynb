{
 "cells": [
  {
   "cell_type": "markdown",
   "id": "1709b56a-c20f-4203-bee5-fe8f135e37ad",
   "metadata": {},
   "source": [
    "# Import libraries and functions"
   ]
  },
  {
   "cell_type": "code",
   "execution_count": null,
   "id": "ed56f77d-f75b-4a88-ad4e-1c057c3e2efe",
   "metadata": {},
   "outputs": [],
   "source": [
    "import pandas as pd\n",
    "import torch\n",
    "from prixfixe.autosome import AutosomeFirstLayersBlock, AutosomeCoreBlock, AutosomeFinalLayersBlock, AutosomeDataProcessor, AutosomeTrainer\n",
    "from prixfixe.bhi import BHIFirstLayersBlock, BHICoreBlock\n",
    "from prixfixe.unlockdna import UnlockDNACoreBlock\n",
    "from prixfixe.prixfixe import PrixFixeNet\n",
    "import sys\n",
    "import os\n",
    "import shutil"
   ]
  },
  {
   "cell_type": "markdown",
   "id": "94dfff5d-2c4a-4a7e-9e2e-276b0958ee3b",
   "metadata": {},
   "source": [
    "# Initialize paths and variables"
   ]
  },
  {
   "cell_type": "code",
   "execution_count": null,
   "id": "ec486386-4f6e-4e88-9aac-c727924a746f",
   "metadata": {},
   "outputs": [],
   "source": [
    "CUDA_DEVICE_ID = 0\n",
    "TRAIN_DATA_PATH = f\"data/train.txt\"\n",
    "VALID_DATA_PATH = f\"data/val.txt\"\n",
    "TEST_DATA_PATH = f\"data/test.txt\"\n",
    "MODEL_LOG_DIR = f\"model_weights\"\n",
    "TRAIN_BATCH_SIZE = 32\n",
    "N_PROCS = 4\n",
    "VALID_BATCH_SIZE = 32\n",
    "lr = 0.005 # 0.001 for DREAM-Attn, 0.005 for DREAM-CNN and DREAM-RNN\n",
    "BATCH_PER_EPOCH = len(pd.read_csv(TRAIN_DATA_PATH))//TRAIN_BATCH_SIZE\n",
    "BATCH_PER_VALIDATION = len(pd.read_csv(VALID_DATA_PATH))//TRAIN_BATCH_SIZE\n",
    "SEQ_SIZE = 230\n",
    "NUM_EPOCHS = 80\n",
    "generator = torch.Generator()\n",
    "generator.manual_seed(42)\n",
    "device = torch.device(f\"cuda:{CUDA_DEVICE_ID}\")"
   ]
  },
  {
   "cell_type": "markdown",
   "id": "e75f1b46-772c-4760-b3b2-24b066e0d7de",
   "metadata": {},
   "source": [
    "# DREAM-CNN"
   ]
  },
  {
   "cell_type": "code",
   "execution_count": null,
   "id": "7b329d14-b254-4791-bff0-452b1c3ce08d",
   "metadata": {},
   "outputs": [],
   "source": [
    "first = BHIFirstLayersBlock(\n",
    "            in_channels = 5,\n",
    "            out_channels = 320,\n",
    "            seqsize = 230,\n",
    "            kernel_sizes = [9, 15],\n",
    "            pool_size = 1,\n",
    "            dropout = 0.2\n",
    "        )\n",
    "\n",
    "core = AutosomeCoreBlock(in_channels=first.out_channels,\n",
    "                        out_channels =64,\n",
    "                        seqsize=first.infer_outseqsize())\n",
    "\n",
    "final = AutosomeFinalLayersBlock(in_channels=core.out_channels)\n",
    "\n",
    "model = PrixFixeNet(\n",
    "    first=first,\n",
    "    core=core,\n",
    "    final=final,\n",
    "    generator=generator\n",
    ")\n",
    "\n",
    "from torchinfo import summary\n",
    "print(summary(model, (1, 5, 230)))"
   ]
  },
  {
   "cell_type": "markdown",
   "id": "a70c4db1-3fa9-40e9-9bf7-e7d9742f18d8",
   "metadata": {},
   "source": [
    "# DREAM-RNN"
   ]
  },
  {
   "cell_type": "code",
   "execution_count": null,
   "id": "bc7f038e-f1bc-4c74-aacf-72c968e1c238",
   "metadata": {},
   "outputs": [],
   "source": [
    "first = BHIFirstLayersBlock(\n",
    "            in_channels = 5,\n",
    "            out_channels = 320,\n",
    "            seqsize = 230,\n",
    "            kernel_sizes = [9, 15],\n",
    "            pool_size = 1,\n",
    "            dropout = 0.2\n",
    "        )\n",
    "\n",
    "core = BHICoreBlock(\n",
    "in_channels = first.out_channels,\n",
    "out_channels = 320,\n",
    "seqsize = first.infer_outseqsize(),\n",
    "lstm_hidden_channels = 320,\n",
    "kernel_sizes = [9, 15],\n",
    "pool_size = 1,\n",
    "dropout1 = 0.2,\n",
    "dropout2 = 0.5\n",
    ")\n",
    "\n",
    "final = AutosomeFinalLayersBlock(in_channels=core.out_channels)\n",
    "\n",
    "model = PrixFixeNet(\n",
    "    first=first,\n",
    "    core=core,\n",
    "    final=final,\n",
    "    generator=generator\n",
    ")\n",
    "\n",
    "from torchinfo import summary\n",
    "print(summary(model, (1, 5, 230)))"
   ]
  },
  {
   "cell_type": "markdown",
   "id": "34858f1e-ac1c-4b0e-8789-57ccbad65767",
   "metadata": {},
   "source": [
    "# DREAM-Atttn"
   ]
  },
  {
   "cell_type": "code",
   "execution_count": null,
   "id": "acd14cb4-480a-490a-9185-2dd35e6b1152",
   "metadata": {},
   "outputs": [],
   "source": [
    "first = AutosomeFirstLayersBlock(in_channels=5,\n",
    "                                out_channels=256, \n",
    "                                seqsize=230)\n",
    "core = UnlockDNACoreBlock(\n",
    "    in_channels = first.out_channels, out_channels= first.out_channels, seqsize = 230, \n",
    "    n_blocks = 4,kernel_size = 15, rate = 0.1, num_heads = 8)\n",
    "\n",
    "final = AutosomeFinalLayersBlock(in_channels=core.out_channels)\n",
    "\n",
    "model = PrixFixeNet(\n",
    "    first=first,\n",
    "    core=core,\n",
    "    final=final,\n",
    "    generator=generator\n",
    ")\n",
    "\n",
    "from torchinfo import summary\n",
    "print(summary(model, (1, 5, 230)))"
   ]
  },
  {
   "cell_type": "markdown",
   "id": "75a1511b-da5e-4c9f-a413-8b077d5ec0bf",
   "metadata": {},
   "source": [
    "# DataProcessor"
   ]
  },
  {
   "cell_type": "code",
   "execution_count": null,
   "id": "4e769cf3-b747-4a8c-94a9-48bce92fe537",
   "metadata": {},
   "outputs": [],
   "source": [
    "dataprocessor = AutosomeDataProcessor(\n",
    "    path_to_training_data=TRAIN_DATA_PATH,\n",
    "    path_to_validation_data=VALID_DATA_PATH,\n",
    "    path_to_test_data=TEST_DATA_PATH,\n",
    "    train_batch_size=TRAIN_BATCH_SIZE, \n",
    "    batch_per_epoch=BATCH_PER_EPOCH,\n",
    "    train_workers=N_PROCS,\n",
    "    valid_batch_size=VALID_BATCH_SIZE,\n",
    "    valid_workers=N_PROCS,\n",
    "    shuffle_train=True,\n",
    "    shuffle_val=False,\n",
    "    seqsize=SEQ_SIZE,\n",
    "    generator=generator\n",
    ")"
   ]
  },
  {
   "cell_type": "code",
   "execution_count": null,
   "id": "c34f1161-81e9-4786-a9b3-7b377622b157",
   "metadata": {},
   "outputs": [],
   "source": [
    "next(dataprocessor.prepare_train_dataloader())"
   ]
  },
  {
   "cell_type": "markdown",
   "id": "a503a719-3199-4814-bcff-15db2228af4b",
   "metadata": {},
   "source": [
    "# Train"
   ]
  },
  {
   "cell_type": "code",
   "execution_count": null,
   "id": "ddc70535-1d22-45ab-b5d9-a57e1e1eb13b",
   "metadata": {},
   "outputs": [],
   "source": [
    "trainer = AutosomeTrainer(\n",
    "    model,\n",
    "    device=torch.device(f\"cuda:{CUDA_DEVICE_ID}\"), \n",
    "    model_dir=MODEL_LOG_DIR,\n",
    "    dataprocessor=dataprocessor,\n",
    "    num_epochs=NUM_EPOCHS,\n",
    "    lr = lr)\n",
    "\n",
    "trainer.fit()"
   ]
  }
 ],
 "metadata": {
  "kernelspec": {
   "display_name": "Python 3 (ipykernel)",
   "language": "python",
   "name": "python3"
  },
  "language_info": {
   "codemirror_mode": {
    "name": "ipython",
    "version": 3
   },
   "file_extension": ".py",
   "mimetype": "text/x-python",
   "name": "python",
   "nbconvert_exporter": "python",
   "pygments_lexer": "ipython3",
   "version": "3.10.9"
  }
 },
 "nbformat": 4,
 "nbformat_minor": 5
}
